{
 "cells": [
  {
   "cell_type": "markdown",
   "id": "de875d7c",
   "metadata": {},
   "source": [
    "# Исследование данных:"
   ]
  },
  {
   "cell_type": "code",
   "execution_count": 56,
   "id": "778a110a",
   "metadata": {},
   "outputs": [],
   "source": [
    "# Импортирую Нужные библиотеки:\n",
    "import pandas as pd\n",
    "import numpy as np\n",
    "import matplotlib\n",
    "import scipy\n",
    "from matplotlib import pyplot as plt\n",
    "import seaborn as sns"
   ]
  },
  {
   "cell_type": "code",
   "execution_count": 57,
   "id": "f2b076dd",
   "metadata": {},
   "outputs": [],
   "source": [
    "# Гружу дата-сеты\n",
    "employees = pd.read_excel('перс инфо (возраст, пол и т.п.).xlsx')\n",
    "learnings = pd.read_excel(\n",
    "    'Выгрузка клиентский_обучения_апрель_2023.xlsx',\n",
    "    usecols=['Табельный номер МТС', 'Признак присутствия'])\n",
    "tnps_bef = pd.read_excel('tnps_ДО.xlsx',\n",
    "                         sheet_name='Сотрудники',\n",
    "                         usecols=[\n",
    "                             'Дивизион', 'Регион', 'Город', 'Директор региона',\n",
    "                             'Директор сектора', 'Код ТТ', 'Тип ТТ',\n",
    "                             'ФИО Сотрудника', 'Табельный номер', 'tNPS Март'\n",
    "                         ])\n",
    "tnps_after = pd.read_excel('tnps_После.xlsx',\n",
    "                           sheet_name='Сотрудники',\n",
    "                           usecols=[\n",
    "                               'Дивизион', 'Регион', 'Город',\n",
    "                               'Директор региона', 'Директор сектора',\n",
    "                               'Код ТТ', 'Тип ТТ', 'ФИО Сотрудника',\n",
    "                               'Табельный номер', 'tNPS Май'\n",
    "                           ])"
   ]
  },
  {
   "cell_type": "code",
   "execution_count": 58,
   "id": "29214e0b",
   "metadata": {},
   "outputs": [],
   "source": [
    "# привязки:\n",
    "bindings = pd.read_excel(\n",
    "    r'C:\\Users\\nvlysen2\\Desktop\\Лысенко Н. В\\отчеты\\Статистика магазинов\\Статистика, режим работы и временно неработающие магазины_25.09.2022.xlsx',\n",
    "    sheet_name='Статусы магазинов',\n",
    "    usecols=[\n",
    "        'Код магазина', 'Дивизион', 'Область', 'Населенный пункт',\n",
    "        'Руководитель сектора', 'Руководитель региона'\n",
    "    ])"
   ]
  },
  {
   "cell_type": "markdown",
   "id": "78f29d65",
   "metadata": {},
   "source": [
    "## Обработка tnps before and after"
   ]
  },
  {
   "cell_type": "markdown",
   "id": "df970943",
   "metadata": {},
   "source": [
    "   ###    1.Before:"
   ]
  },
  {
   "cell_type": "code",
   "execution_count": 62,
   "id": "2fe968a1",
   "metadata": {},
   "outputs": [],
   "source": [
    "# Преобразую колонку в численный формат:\n",
    "tnps_bef['tNPS Март'] = pd.to_numeric(tnps_bef['tNPS Март'], errors = 'coerce')"
   ]
  },
  {
   "cell_type": "code",
   "execution_count": 63,
   "id": "ded6afd0",
   "metadata": {},
   "outputs": [
    {
     "name": "stdout",
     "output_type": "stream",
     "text": [
      "<class 'pandas.core.frame.DataFrame'>\n",
      "RangeIndex: 9161 entries, 0 to 9160\n",
      "Data columns (total 10 columns):\n",
      " #   Column            Non-Null Count  Dtype  \n",
      "---  ------            --------------  -----  \n",
      " 0   Дивизион          9161 non-null   object \n",
      " 1   Регион            9161 non-null   object \n",
      " 2   Город             9161 non-null   object \n",
      " 3   Директор региона  9161 non-null   object \n",
      " 4   Директор сектора  9161 non-null   object \n",
      " 5   Код ТТ            9161 non-null   object \n",
      " 6   Тип ТТ            9161 non-null   object \n",
      " 7   ФИО Сотрудника    9161 non-null   object \n",
      " 8   Табельный номер   9161 non-null   object \n",
      " 9   tNPS Март         9016 non-null   float64\n",
      "dtypes: float64(1), object(9)\n",
      "memory usage: 715.8+ KB\n"
     ]
    }
   ],
   "source": [
    "# Смотрю информацию о дата-сете:\n",
    "tnps_bef.info()"
   ]
  },
  {
   "cell_type": "code",
   "execution_count": 64,
   "id": "70c4b8c0",
   "metadata": {},
   "outputs": [],
   "source": [
    "# Переименовываю колонки для удобства:\n",
    "tnps_bef.rename(columns = {'tNPS Март':'tNps_ДО'}, inplace = True)"
   ]
  },
  {
   "cell_type": "code",
   "execution_count": 65,
   "id": "d7b447a9",
   "metadata": {},
   "outputs": [],
   "source": [
    "# Меняю тип и переименовываю колонку\n",
    "tnps_bef['Табельный номер'] = tnps_bef['Табельный номер'].astype(str)\n",
    "tnps_bef.rename(columns = {'Табельный номер':'tub_number'}, inplace = True)"
   ]
  },
  {
   "cell_type": "code",
   "execution_count": 66,
   "id": "9937fc1d",
   "metadata": {},
   "outputs": [],
   "source": [
    "# Отбираю нужные колонки\n",
    "tnps_bef = tnps_bef[['tub_number', 'tNps_ДО']]"
   ]
  },
  {
   "cell_type": "markdown",
   "id": "e7ff30a0",
   "metadata": {},
   "source": [
    "### 2. After:"
   ]
  },
  {
   "cell_type": "code",
   "execution_count": 68,
   "id": "8d6b47ae",
   "metadata": {},
   "outputs": [],
   "source": [
    "# Приобразовываем значение в столбце \"tNps Май\" из объекта в нумерик:\n",
    "tnps_after['tNPS Май'] = pd.to_numeric(tnps_after['tNPS Май'], errors = 'coerce')"
   ]
  },
  {
   "cell_type": "code",
   "execution_count": 70,
   "id": "4ff43bd1",
   "metadata": {},
   "outputs": [],
   "source": [
    "# Преобразовываю в нужный тип:\n",
    "tnps_after['Табельный номер'] = tnps_after['Табельный номер'].astype(str)"
   ]
  },
  {
   "cell_type": "code",
   "execution_count": 71,
   "id": "3e9962b6",
   "metadata": {},
   "outputs": [],
   "source": [
    "# Переименовываю\n",
    "tnps_after.rename(columns = {'Табельный номер':'tub_number'}, inplace = True)"
   ]
  },
  {
   "cell_type": "code",
   "execution_count": 73,
   "id": "5fde907a",
   "metadata": {},
   "outputs": [],
   "source": [
    "# Переименовываю\n",
    "tnps_after.rename(columns = {'tNPS Май': 'tNPS_after'}, inplace = True)"
   ]
  },
  {
   "cell_type": "code",
   "execution_count": 74,
   "id": "cda3729b",
   "metadata": {},
   "outputs": [],
   "source": [
    "# отбираю нужные столбцы\n",
    "tnps_after = tnps_after[['tub_number', 'tNPS_after']]"
   ]
  },
  {
   "cell_type": "markdown",
   "id": "751a6b1d",
   "metadata": {},
   "source": [
    "## Соединяем tNps с информацией по сотрудникам."
   ]
  },
  {
   "cell_type": "code",
   "execution_count": 76,
   "id": "99e4245f",
   "metadata": {},
   "outputs": [],
   "source": [
    "employees['tub_number'] = employees['tub_number'].astype(str)"
   ]
  },
  {
   "cell_type": "code",
   "execution_count": 77,
   "id": "aad74b0c",
   "metadata": {},
   "outputs": [],
   "source": [
    "empl_nps = employees.merge(tnps_bef, how='left',\n",
    "                           on='tub_number').merge(tnps_after, how = 'left', on = 'tub_number')"
   ]
  },
  {
   "cell_type": "code",
   "execution_count": 79,
   "id": "0cc3bd66",
   "metadata": {},
   "outputs": [],
   "source": [
    "# Убираю строки без данных в определенных столбцах\n",
    "empl_nps.dropna(subset = ['tNps_ДО', 'tNPS_after'], inplace = True)"
   ]
  },
  {
   "cell_type": "code",
   "execution_count": 81,
   "id": "0d55a6dd",
   "metadata": {},
   "outputs": [],
   "source": [
    "# Создаю новый столбец, выбирая определенное кол-во символов из строки для дальнейшего объеденения\n",
    "# По данному ключу.\n",
    "empl_nps['barcode_mts'] = empl_nps['barcode_mts'].str[:6]"
   ]
  },
  {
   "cell_type": "markdown",
   "id": "5100cf9f",
   "metadata": {},
   "source": [
    "## Работа с обучениями"
   ]
  },
  {
   "cell_type": "code",
   "execution_count": 83,
   "id": "d164dba8",
   "metadata": {},
   "outputs": [],
   "source": [
    "# гружу еще один дата-сет с данными по обучению\n",
    "learnings = pd.read_excel(\n",
    "    'Выгрузка клиентский_обучения_апрель_2023.xlsx',\n",
    "    usecols=['Табельный номер МТС', 'Признак присутствия'])"
   ]
  },
  {
   "cell_type": "code",
   "execution_count": 85,
   "id": "f2fe2220",
   "metadata": {},
   "outputs": [
    {
     "data": {
      "text/html": [
       "<div>\n",
       "<style scoped>\n",
       "    .dataframe tbody tr th:only-of-type {\n",
       "        vertical-align: middle;\n",
       "    }\n",
       "\n",
       "    .dataframe tbody tr th {\n",
       "        vertical-align: top;\n",
       "    }\n",
       "\n",
       "    .dataframe thead th {\n",
       "        text-align: right;\n",
       "    }\n",
       "</style>\n",
       "<table border=\"1\" class=\"dataframe\">\n",
       "  <thead>\n",
       "    <tr style=\"text-align: right;\">\n",
       "      <th></th>\n",
       "      <th>barcode_mts</th>\n",
       "      <th>Признак присутствия</th>\n",
       "    </tr>\n",
       "  </thead>\n",
       "  <tbody>\n",
       "    <tr>\n",
       "      <th>0</th>\n",
       "      <td>530476</td>\n",
       "      <td>+</td>\n",
       "    </tr>\n",
       "    <tr>\n",
       "      <th>1</th>\n",
       "      <td>392649</td>\n",
       "      <td>+</td>\n",
       "    </tr>\n",
       "    <tr>\n",
       "      <th>2</th>\n",
       "      <td>511986</td>\n",
       "      <td>+</td>\n",
       "    </tr>\n",
       "    <tr>\n",
       "      <th>3</th>\n",
       "      <td>553058</td>\n",
       "      <td>+</td>\n",
       "    </tr>\n",
       "    <tr>\n",
       "      <th>4</th>\n",
       "      <td>554209</td>\n",
       "      <td>+</td>\n",
       "    </tr>\n",
       "  </tbody>\n",
       "</table>\n",
       "</div>"
      ],
      "text/plain": [
       "  barcode_mts Признак присутствия\n",
       "0      530476                   +\n",
       "1      392649                   +\n",
       "2      511986                   +\n",
       "3      553058                   +\n",
       "4      554209                   +"
      ]
     },
     "execution_count": 85,
     "metadata": {},
     "output_type": "execute_result"
    }
   ],
   "source": [
    "learnings.rename(columns = {'Табельный номер МТС':'barcode_mts'}, inplace = True)\n",
    "learnings['barcode_mts'] = learnings['barcode_mts'].astype(str).str[:6]\n",
    "learnings.head()"
   ]
  },
  {
   "cell_type": "markdown",
   "id": "8763cbca",
   "metadata": {},
   "source": [
    "## Объединение nps, learnings"
   ]
  },
  {
   "cell_type": "code",
   "execution_count": 86,
   "id": "91de2737",
   "metadata": {},
   "outputs": [],
   "source": [
    "empl_nps_learn = empl_nps.merge(learnings, how = 'left', on = 'barcode_mts')"
   ]
  },
  {
   "cell_type": "code",
   "execution_count": 87,
   "id": "c525edc6",
   "metadata": {},
   "outputs": [],
   "source": [
    "empl_nps_learn['Признак присутствия'].fillna('-', inplace = True)"
   ]
  },
  {
   "cell_type": "code",
   "execution_count": 89,
   "id": "8bb9c18e",
   "metadata": {},
   "outputs": [],
   "source": [
    "# Выделяю тестовую и контрольную группу\n",
    "empl_nps_learn['group'] = np.where(empl_nps_learn['Признак присутствия'] == '+', 't', 'c')"
   ]
  },
  {
   "cell_type": "markdown",
   "id": "aa42e11a",
   "metadata": {},
   "source": [
    "# Нужно добавить привязки и выделить только сибирь и дальний восток"
   ]
  },
  {
   "cell_type": "code",
   "execution_count": 91,
   "id": "d37cc001",
   "metadata": {},
   "outputs": [],
   "source": [
    "empl_nps_learn = empl_nps_learn.merge(bindings, how = 'left', left_on = 'shop',\n",
    "                                     right_on = 'Код магазина')"
   ]
  },
  {
   "cell_type": "code",
   "execution_count": 92,
   "id": "01b4dc29",
   "metadata": {},
   "outputs": [],
   "source": [
    "# Отбираю только дивизионы Сибирь и Дальний Восток.\n",
    "filter_list = ['Сибирь', 'Дальний Восток']\n",
    "empl_nps_learn = empl_nps_learn[empl_nps_learn.Дивизион.isin(filter_list)]"
   ]
  },
  {
   "cell_type": "code",
   "execution_count": 94,
   "id": "f6bf948b",
   "metadata": {},
   "outputs": [
    {
     "data": {
      "text/html": [
       "<div>\n",
       "<style scoped>\n",
       "    .dataframe tbody tr th:only-of-type {\n",
       "        vertical-align: middle;\n",
       "    }\n",
       "\n",
       "    .dataframe tbody tr th {\n",
       "        vertical-align: top;\n",
       "    }\n",
       "\n",
       "    .dataframe thead th {\n",
       "        text-align: right;\n",
       "    }\n",
       "</style>\n",
       "<table border=\"1\" class=\"dataframe\">\n",
       "  <thead>\n",
       "    <tr style=\"text-align: right;\">\n",
       "      <th></th>\n",
       "      <th>tNps_ДО</th>\n",
       "      <th>tub_number</th>\n",
       "    </tr>\n",
       "  </thead>\n",
       "  <tbody>\n",
       "    <tr>\n",
       "      <th>0</th>\n",
       "      <td>-1.0000</td>\n",
       "      <td>1</td>\n",
       "    </tr>\n",
       "    <tr>\n",
       "      <th>1</th>\n",
       "      <td>-0.6667</td>\n",
       "      <td>2</td>\n",
       "    </tr>\n",
       "    <tr>\n",
       "      <th>2</th>\n",
       "      <td>-0.5000</td>\n",
       "      <td>1</td>\n",
       "    </tr>\n",
       "    <tr>\n",
       "      <th>3</th>\n",
       "      <td>-0.4286</td>\n",
       "      <td>1</td>\n",
       "    </tr>\n",
       "    <tr>\n",
       "      <th>4</th>\n",
       "      <td>-0.2000</td>\n",
       "      <td>2</td>\n",
       "    </tr>\n",
       "  </tbody>\n",
       "</table>\n",
       "</div>"
      ],
      "text/plain": [
       "   tNps_ДО  tub_number\n",
       "0  -1.0000           1\n",
       "1  -0.6667           2\n",
       "2  -0.5000           1\n",
       "3  -0.4286           1\n",
       "4  -0.2000           2"
      ]
     },
     "execution_count": 94,
     "metadata": {},
     "output_type": "execute_result"
    }
   ],
   "source": [
    "# Делаю группировку для дальнейшей визуализации распределения\n",
    "empl_gr_nps = empl_nps_learn.groupby(by = ['tNps_ДО']).agg({'tub_number':'count'}).reset_index()\n",
    "empl_gr_nps.head()"
   ]
  },
  {
   "cell_type": "code",
   "execution_count": 328,
   "id": "5b77d776",
   "metadata": {},
   "outputs": [
    {
     "data": {
      "image/png": "[encoded data removed]",
      "text/plain": [
       "<Figure size 864x360 with 1 Axes>"
      ]
     },
     "metadata": {},
     "output_type": "display_data"
    }
   ],
   "source": [
    "#Рапределение nps\n",
    "#Визуализация\n",
    "plt.style.use('seaborn-v0_8')\n",
    "fig, ax = plt.subplots(figsize=(12, 5))\n",
    "ax.bar(empl_gr_nps['tNps_ДО'],\n",
    "        empl_gr_nps['tub_number'], alpha = 0.8, label = 'кол-во сотр', width = 0.02)\n",
    "# Подписи графика:\n",
    "plt.title('Распределение nps ДО', fontsize = 24)\n",
    "plt.xlabel('nps', fontsize = 16)\n",
    "plt.ylabel('количество', fontsize = 16)\n",
    "plt.tick_params(axis = 'both', labelsize = 14)\n",
    "plt.legend()\n",
    "plt.show()"
   ]
  },
  {
   "cell_type": "code",
   "execution_count": 96,
   "id": "284d9239",
   "metadata": {},
   "outputs": [
    {
     "data": {
      "text/html": [
       "<div>\n",
       "<style scoped>\n",
       "    .dataframe tbody tr th:only-of-type {\n",
       "        vertical-align: middle;\n",
       "    }\n",
       "\n",
       "    .dataframe tbody tr th {\n",
       "        vertical-align: top;\n",
       "    }\n",
       "\n",
       "    .dataframe thead th {\n",
       "        text-align: right;\n",
       "    }\n",
       "</style>\n",
       "<table border=\"1\" class=\"dataframe\">\n",
       "  <thead>\n",
       "    <tr style=\"text-align: right;\">\n",
       "      <th></th>\n",
       "      <th>tNPS_after</th>\n",
       "      <th>tub_number</th>\n",
       "    </tr>\n",
       "  </thead>\n",
       "  <tbody>\n",
       "    <tr>\n",
       "      <th>0</th>\n",
       "      <td>-1.0000</td>\n",
       "      <td>7</td>\n",
       "    </tr>\n",
       "    <tr>\n",
       "      <th>1</th>\n",
       "      <td>-0.3333</td>\n",
       "      <td>2</td>\n",
       "    </tr>\n",
       "    <tr>\n",
       "      <th>2</th>\n",
       "      <td>0.0000</td>\n",
       "      <td>8</td>\n",
       "    </tr>\n",
       "    <tr>\n",
       "      <th>3</th>\n",
       "      <td>0.1111</td>\n",
       "      <td>1</td>\n",
       "    </tr>\n",
       "    <tr>\n",
       "      <th>4</th>\n",
       "      <td>0.1250</td>\n",
       "      <td>1</td>\n",
       "    </tr>\n",
       "  </tbody>\n",
       "</table>\n",
       "</div>"
      ],
      "text/plain": [
       "   tNPS_after  tub_number\n",
       "0     -1.0000           7\n",
       "1     -0.3333           2\n",
       "2      0.0000           8\n",
       "3      0.1111           1\n",
       "4      0.1250           1"
      ]
     },
     "execution_count": 96,
     "metadata": {},
     "output_type": "execute_result"
    }
   ],
   "source": [
    "empl_gr_nps_aft = empl_nps_learn.groupby(by = ['tNPS_after']).agg({'tub_number':'count'}).reset_index()\n",
    "empl_gr_nps_aft.head()"
   ]
  },
  {
   "cell_type": "code",
   "execution_count": 329,
   "id": "fd335062",
   "metadata": {},
   "outputs": [
    {
     "data": {
      "image/png": "[encoded data removed]",
      "text/plain": [
       "<Figure size 864x360 with 1 Axes>"
      ]
     },
     "metadata": {},
     "output_type": "display_data"
    }
   ],
   "source": [
    "#Рапределение nps\n",
    "#Визуализация\n",
    "plt.style.use('seaborn-v0_8')\n",
    "fig, ax = plt.subplots(figsize=(12, 5))\n",
    "ax.bar(empl_gr_nps_aft['tNPS_after'],\n",
    "       empl_gr_nps_aft['tub_number'],\n",
    "       alpha=0.5,\n",
    "       label='кол-во сотр',\n",
    "       width=0.02,\n",
    "       color='green')\n",
    "# Подписи графика:\n",
    "plt.title('Распределение nps После', fontsize=24)\n",
    "plt.xlabel('nps', fontsize=16)\n",
    "plt.ylabel('количество', fontsize=16)\n",
    "plt.tick_params(axis='both', labelsize=14)\n",
    "plt.legend()\n",
    "#plt.savefig('graphs/Распределение по грейдам (все).png', bbox_inches = 'tight')\n",
    "plt.show()"
   ]
  },
  {
   "cell_type": "markdown",
   "id": "11428048",
   "metadata": {},
   "source": [
    "## Выводы по распределению nps:\n",
    "1. Огромная доля сотрудников (около 80%) занимает с показателем 100%. И так как у них динамики в + быть не может, то при учете таких сотрудников средняя динамика будет близится к 0 или отрицательным значениям. По этому мы обрежем данный выброс до 90%."
   ]
  },
  {
   "cell_type": "code",
   "execution_count": null,
   "id": "5ba0f696",
   "metadata": {},
   "outputs": [],
   "source": [
    "# Обрезаем хвосты:\n",
    "empl_nps_learn_2 = empl_nps_learn[(empl_nps_learn['tNps_ДО']<0.9)&(empl_nps_learn['tNps_ДО']>=0)]"
   ]
  },
  {
   "cell_type": "code",
   "execution_count": null,
   "id": "692b7452",
   "metadata": {},
   "outputs": [],
   "source": [
    "# смотрю распределение после удаления хвостов:\n",
    "empl_gr_nps_cl = empl_nps_learn_2.groupby(by = ['tNps_ДО']).agg({'tub_number':'count'}).reset_index()"
   ]
  },
  {
   "cell_type": "code",
   "execution_count": 101,
   "id": "e7578169",
   "metadata": {},
   "outputs": [
    {
     "data": {
      "image/png": "[encoded data removed]",
      "text/plain": [
       "<Figure size 1080x648 with 1 Axes>"
      ]
     },
     "metadata": {},
     "output_type": "display_data"
    }
   ],
   "source": [
    "#Рапределение после удаления выбросов nps\n",
    "#Визуализация\n",
    "plt.style.use('seaborn-v0_8')\n",
    "fig, ax = plt.subplots(figsize=(15, 9))\n",
    "ax.bar(empl_gr_nps_cl['tNps_ДО'],\n",
    "        empl_gr_nps_cl['tub_number'], alpha = 0.8, label = 'кол-во сотр', width = 0.02)\n",
    "# Подписи графика:\n",
    "plt.title('Распределение nps ДО_ без выбросов', fontsize = 24)\n",
    "plt.xlabel('nps', fontsize = 16)\n",
    "plt.ylabel('количество', fontsize = 16)\n",
    "plt.tick_params(axis = 'both', labelsize = 14)\n",
    "plt.legend()\n",
    "#plt.savefig('graphs/Распределение по грейдам (все).png', bbox_inches = 'tight')\n",
    "plt.show()"
   ]
  },
  {
   "cell_type": "code",
   "execution_count": 102,
   "id": "8f7b605a",
   "metadata": {},
   "outputs": [
    {
     "name": "stderr",
     "output_type": "stream",
     "text": [
      "C:\\Users\\nvlysen2\\AppData\\Local\\Temp\\ipykernel_7628\\2762659192.py:1: SettingWithCopyWarning: \n",
      "A value is trying to be set on a copy of a slice from a DataFrame.\n",
      "Try using .loc[row_indexer,col_indexer] = value instead\n",
      "\n",
      "See the caveats in the documentation: https://pandas.pydata.org/pandas-docs/stable/user_guide/indexing.html#returning-a-view-versus-a-copy\n",
      "  empl_nps_learn_2['dinamics'] = (empl_nps_learn_2['tNPS_after'] - empl_nps_learn_2['tNps_ДО'])*100\n"
     ]
    }
   ],
   "source": [
    "# Вычисляю динамику:\n",
    "empl_nps_learn_2['dinamics'] = (empl_nps_learn_2['tNPS_after'] - empl_nps_learn_2['tNps_ДО'])*100"
   ]
  },
  {
   "cell_type": "markdown",
   "id": "05cb7dfe",
   "metadata": {},
   "source": [
    "## Описательная статистика по группам теста:"
   ]
  },
  {
   "cell_type": "code",
   "execution_count": 104,
   "id": "a16768ce",
   "metadata": {},
   "outputs": [],
   "source": [
    "math_func = {'dinamics': ['describe']}"
   ]
  },
  {
   "cell_type": "code",
   "execution_count": 105,
   "id": "906c9d70",
   "metadata": {},
   "outputs": [],
   "source": [
    "gr_din_gr = empl_nps_learn_2.groupby(by = ['group']).agg(math_func).reset_index(col_level = 2)"
   ]
  },
  {
   "cell_type": "code",
   "execution_count": 106,
   "id": "a60b3d77",
   "metadata": {
    "scrolled": true
   },
   "outputs": [
    {
     "data": {
      "text/html": [
       "<div>\n",
       "<style scoped>\n",
       "    .dataframe tbody tr th:only-of-type {\n",
       "        vertical-align: middle;\n",
       "    }\n",
       "\n",
       "    .dataframe tbody tr th {\n",
       "        vertical-align: top;\n",
       "    }\n",
       "\n",
       "    .dataframe thead tr th {\n",
       "        text-align: left;\n",
       "    }\n",
       "</style>\n",
       "<table border=\"1\" class=\"dataframe\">\n",
       "  <thead>\n",
       "    <tr>\n",
       "      <th></th>\n",
       "      <th></th>\n",
       "      <th colspan=\"8\" halign=\"left\">dinamics</th>\n",
       "    </tr>\n",
       "    <tr>\n",
       "      <th></th>\n",
       "      <th></th>\n",
       "      <th colspan=\"8\" halign=\"left\">describe</th>\n",
       "    </tr>\n",
       "    <tr>\n",
       "      <th></th>\n",
       "      <th>group</th>\n",
       "      <th>count</th>\n",
       "      <th>mean</th>\n",
       "      <th>std</th>\n",
       "      <th>min</th>\n",
       "      <th>25%</th>\n",
       "      <th>50%</th>\n",
       "      <th>75%</th>\n",
       "      <th>max</th>\n",
       "    </tr>\n",
       "  </thead>\n",
       "  <tbody>\n",
       "    <tr>\n",
       "      <th>0</th>\n",
       "      <td>c</td>\n",
       "      <td>582.0</td>\n",
       "      <td>-1.027474</td>\n",
       "      <td>27.231231</td>\n",
       "      <td>-184.62</td>\n",
       "      <td>-14.0875</td>\n",
       "      <td>-1.41</td>\n",
       "      <td>13.2275</td>\n",
       "      <td>100.00</td>\n",
       "    </tr>\n",
       "    <tr>\n",
       "      <th>1</th>\n",
       "      <td>t</td>\n",
       "      <td>297.0</td>\n",
       "      <td>1.805488</td>\n",
       "      <td>24.867554</td>\n",
       "      <td>-155.56</td>\n",
       "      <td>-12.9900</td>\n",
       "      <td>3.12</td>\n",
       "      <td>16.5600</td>\n",
       "      <td>75.71</td>\n",
       "    </tr>\n",
       "  </tbody>\n",
       "</table>\n",
       "</div>"
      ],
      "text/plain": [
       "        dinamics                                                             \n",
       "        describe                                                             \n",
       "  group    count      mean        std     min      25%   50%      75%     max\n",
       "0     c    582.0 -1.027474  27.231231 -184.62 -14.0875 -1.41  13.2275  100.00\n",
       "1     t    297.0  1.805488  24.867554 -155.56 -12.9900  3.12  16.5600   75.71"
      ]
     },
     "execution_count": 106,
     "metadata": {},
     "output_type": "execute_result"
    }
   ],
   "source": [
    "gr_din_gr"
   ]
  },
  {
   "cell_type": "code",
   "execution_count": 107,
   "id": "df5561a9",
   "metadata": {},
   "outputs": [
    {
     "data": {
      "text/plain": [
       "<AxesSubplot:xlabel='group'>"
      ]
     },
     "execution_count": 107,
     "metadata": {},
     "output_type": "execute_result"
    },
    {
     "data": {
      "image/png": "[encoded data removed]",
      "text/plain": [
       "<Figure size 720x360 with 1 Axes>"
      ]
     },
     "metadata": {},
     "output_type": "display_data"
    }
   ],
   "source": [
    "\n",
    "empl_nps_learn_2.groupby(['group']).agg('mean')[['dinamics']].plot(kind='bar',\n",
    "                                                           figsize=(10, 5),\n",
    "                                                           )"
   ]
  },
  {
   "cell_type": "code",
   "execution_count": 108,
   "id": "cf0e3573",
   "metadata": {},
   "outputs": [],
   "source": [
    "# Функция для быстрой отрисовки распределений\n",
    "def plot_segments_distribution(df, segment_columns, test_factor):\n",
    "    for segment in segment_columns:\n",
    "        aggregated_data = df.groupby(by = [test_factor, segment])['dinamics'].mean().reset_index()\n",
    "        sns.catplot(x = segment, \n",
    "                    y = 'dinamics', \n",
    "                    hue = test_factor, # сообщаем, что хотим, чтобы разные группы имели разный цвет\n",
    "                    data = aggregated_data, \n",
    "                    kind = \"bar\", \n",
    "                    height = 6, # задаем размер графика \n",
    "                    aspect = 1) # задаем ширину столбца"
   ]
  },
  {
   "cell_type": "code",
   "execution_count": 109,
   "id": "cb917ff8",
   "metadata": {},
   "outputs": [
    {
     "data": {
      "image/png": "[encoded data removed]",
      "text/plain": [
       "<Figure size 473x432 with 1 Axes>"
      ]
     },
     "metadata": {},
     "output_type": "display_data"
    }
   ],
   "source": [
    "plot_segments_distribution(empl_nps_learn_2, ['exp_group'], 'group')"
   ]
  },
  {
   "cell_type": "markdown",
   "id": "eea25f09",
   "metadata": {},
   "source": [
    "### Описательная статистика по группе/группе опыта:"
   ]
  },
  {
   "cell_type": "code",
   "execution_count": 110,
   "id": "c906be97",
   "metadata": {},
   "outputs": [],
   "source": [
    "gr_din_gr_exp = empl_nps_learn_2.groupby(\n",
    "    by=['group', 'exp_group']).agg(math_func)\n",
    "\n",
    "gr_din_gr_exp_2=gr_din_gr_exp.reset_index(col_level = 2)"
   ]
  },
  {
   "cell_type": "code",
   "execution_count": 111,
   "id": "496799ad",
   "metadata": {},
   "outputs": [
    {
     "data": {
      "text/html": [
       "<div>\n",
       "<style scoped>\n",
       "    .dataframe tbody tr th:only-of-type {\n",
       "        vertical-align: middle;\n",
       "    }\n",
       "\n",
       "    .dataframe tbody tr th {\n",
       "        vertical-align: top;\n",
       "    }\n",
       "\n",
       "    .dataframe thead tr th {\n",
       "        text-align: left;\n",
       "    }\n",
       "</style>\n",
       "<table border=\"1\" class=\"dataframe\">\n",
       "  <thead>\n",
       "    <tr>\n",
       "      <th></th>\n",
       "      <th colspan=\"2\" halign=\"left\"></th>\n",
       "      <th colspan=\"8\" halign=\"left\">dinamics</th>\n",
       "    </tr>\n",
       "    <tr>\n",
       "      <th></th>\n",
       "      <th colspan=\"2\" halign=\"left\"></th>\n",
       "      <th colspan=\"8\" halign=\"left\">describe</th>\n",
       "    </tr>\n",
       "    <tr>\n",
       "      <th></th>\n",
       "      <th>group</th>\n",
       "      <th>exp_group</th>\n",
       "      <th>count</th>\n",
       "      <th>mean</th>\n",
       "      <th>std</th>\n",
       "      <th>min</th>\n",
       "      <th>25%</th>\n",
       "      <th>50%</th>\n",
       "      <th>75%</th>\n",
       "      <th>max</th>\n",
       "    </tr>\n",
       "  </thead>\n",
       "  <tbody>\n",
       "    <tr>\n",
       "      <th>0</th>\n",
       "      <td>c</td>\n",
       "      <td>6-12 мес.</td>\n",
       "      <td>173.0</td>\n",
       "      <td>-1.232543</td>\n",
       "      <td>29.311497</td>\n",
       "      <td>-180.00</td>\n",
       "      <td>-14.9900</td>\n",
       "      <td>-2.780</td>\n",
       "      <td>13.0800</td>\n",
       "      <td>100.00</td>\n",
       "    </tr>\n",
       "    <tr>\n",
       "      <th>1</th>\n",
       "      <td>c</td>\n",
       "      <td>&lt; 6 мес.</td>\n",
       "      <td>45.0</td>\n",
       "      <td>-2.866444</td>\n",
       "      <td>37.896702</td>\n",
       "      <td>-184.62</td>\n",
       "      <td>-16.4000</td>\n",
       "      <td>1.780</td>\n",
       "      <td>18.0000</td>\n",
       "      <td>50.80</td>\n",
       "    </tr>\n",
       "    <tr>\n",
       "      <th>2</th>\n",
       "      <td>c</td>\n",
       "      <td>&gt; 1 года</td>\n",
       "      <td>364.0</td>\n",
       "      <td>-0.702665</td>\n",
       "      <td>24.599807</td>\n",
       "      <td>-171.05</td>\n",
       "      <td>-12.5375</td>\n",
       "      <td>-0.055</td>\n",
       "      <td>12.6425</td>\n",
       "      <td>80.00</td>\n",
       "    </tr>\n",
       "    <tr>\n",
       "      <th>3</th>\n",
       "      <td>t</td>\n",
       "      <td>6-12 мес.</td>\n",
       "      <td>82.0</td>\n",
       "      <td>2.518537</td>\n",
       "      <td>22.042771</td>\n",
       "      <td>-65.15</td>\n",
       "      <td>-14.3100</td>\n",
       "      <td>4.950</td>\n",
       "      <td>17.5625</td>\n",
       "      <td>54.17</td>\n",
       "    </tr>\n",
       "    <tr>\n",
       "      <th>4</th>\n",
       "      <td>t</td>\n",
       "      <td>&lt; 6 мес.</td>\n",
       "      <td>82.0</td>\n",
       "      <td>3.603171</td>\n",
       "      <td>28.712602</td>\n",
       "      <td>-155.56</td>\n",
       "      <td>-9.9375</td>\n",
       "      <td>4.790</td>\n",
       "      <td>20.0900</td>\n",
       "      <td>64.29</td>\n",
       "    </tr>\n",
       "    <tr>\n",
       "      <th>5</th>\n",
       "      <td>t</td>\n",
       "      <td>&gt; 1 года</td>\n",
       "      <td>133.0</td>\n",
       "      <td>0.257519</td>\n",
       "      <td>24.039982</td>\n",
       "      <td>-66.67</td>\n",
       "      <td>-14.1300</td>\n",
       "      <td>0.850</td>\n",
       "      <td>14.2900</td>\n",
       "      <td>75.71</td>\n",
       "    </tr>\n",
       "  </tbody>\n",
       "</table>\n",
       "</div>"
      ],
      "text/plain": [
       "                   dinamics                                               \\\n",
       "                   describe                                                \n",
       "  group  exp_group    count      mean        std     min      25%    50%   \n",
       "0     c  6-12 мес.    173.0 -1.232543  29.311497 -180.00 -14.9900 -2.780   \n",
       "1     c   < 6 мес.     45.0 -2.866444  37.896702 -184.62 -16.4000  1.780   \n",
       "2     c   > 1 года    364.0 -0.702665  24.599807 -171.05 -12.5375 -0.055   \n",
       "3     t  6-12 мес.     82.0  2.518537  22.042771  -65.15 -14.3100  4.950   \n",
       "4     t   < 6 мес.     82.0  3.603171  28.712602 -155.56  -9.9375  4.790   \n",
       "5     t   > 1 года    133.0  0.257519  24.039982  -66.67 -14.1300  0.850   \n",
       "\n",
       "                    \n",
       "                    \n",
       "       75%     max  \n",
       "0  13.0800  100.00  \n",
       "1  18.0000   50.80  \n",
       "2  12.6425   80.00  \n",
       "3  17.5625   54.17  \n",
       "4  20.0900   64.29  \n",
       "5  14.2900   75.71  "
      ]
     },
     "execution_count": 111,
     "metadata": {},
     "output_type": "execute_result"
    }
   ],
   "source": [
    "gr_din_gr_exp_2"
   ]
  },
  {
   "cell_type": "code",
   "execution_count": 112,
   "id": "cae5ca07",
   "metadata": {},
   "outputs": [
    {
     "data": {
      "image/png": "[encoded data removed]",
      "text/plain": [
       "<Figure size 473x432 with 1 Axes>"
      ]
     },
     "metadata": {},
     "output_type": "display_data"
    }
   ],
   "source": [
    "plot_segments_distribution(empl_nps_learn_2, ['exp_group'], 'group')"
   ]
  },
  {
   "cell_type": "markdown",
   "id": "9abafe87",
   "metadata": {},
   "source": [
    "### Описательная статистика группа/пол:"
   ]
  },
  {
   "cell_type": "code",
   "execution_count": 113,
   "id": "dafff4b2",
   "metadata": {},
   "outputs": [
    {
     "data": {
      "text/html": [
       "<div>\n",
       "<style scoped>\n",
       "    .dataframe tbody tr th:only-of-type {\n",
       "        vertical-align: middle;\n",
       "    }\n",
       "\n",
       "    .dataframe tbody tr th {\n",
       "        vertical-align: top;\n",
       "    }\n",
       "\n",
       "    .dataframe thead tr th {\n",
       "        text-align: left;\n",
       "    }\n",
       "</style>\n",
       "<table border=\"1\" class=\"dataframe\">\n",
       "  <thead>\n",
       "    <tr>\n",
       "      <th></th>\n",
       "      <th colspan=\"2\" halign=\"left\"></th>\n",
       "      <th colspan=\"8\" halign=\"left\">dinamics</th>\n",
       "    </tr>\n",
       "    <tr>\n",
       "      <th></th>\n",
       "      <th colspan=\"2\" halign=\"left\"></th>\n",
       "      <th colspan=\"8\" halign=\"left\">describe</th>\n",
       "    </tr>\n",
       "    <tr>\n",
       "      <th></th>\n",
       "      <th>group</th>\n",
       "      <th>sex</th>\n",
       "      <th>count</th>\n",
       "      <th>mean</th>\n",
       "      <th>std</th>\n",
       "      <th>min</th>\n",
       "      <th>25%</th>\n",
       "      <th>50%</th>\n",
       "      <th>75%</th>\n",
       "      <th>max</th>\n",
       "    </tr>\n",
       "  </thead>\n",
       "  <tbody>\n",
       "    <tr>\n",
       "      <th>0</th>\n",
       "      <td>c</td>\n",
       "      <td>m</td>\n",
       "      <td>291.0</td>\n",
       "      <td>-0.783299</td>\n",
       "      <td>27.110291</td>\n",
       "      <td>-184.62</td>\n",
       "      <td>-12.360</td>\n",
       "      <td>-1.630</td>\n",
       "      <td>13.375</td>\n",
       "      <td>100.00</td>\n",
       "    </tr>\n",
       "    <tr>\n",
       "      <th>1</th>\n",
       "      <td>c</td>\n",
       "      <td>w</td>\n",
       "      <td>291.0</td>\n",
       "      <td>-1.271649</td>\n",
       "      <td>27.396157</td>\n",
       "      <td>-180.00</td>\n",
       "      <td>-16.240</td>\n",
       "      <td>-0.640</td>\n",
       "      <td>13.130</td>\n",
       "      <td>100.00</td>\n",
       "    </tr>\n",
       "    <tr>\n",
       "      <th>2</th>\n",
       "      <td>t</td>\n",
       "      <td>m</td>\n",
       "      <td>134.0</td>\n",
       "      <td>3.402910</td>\n",
       "      <td>21.990548</td>\n",
       "      <td>-54.76</td>\n",
       "      <td>-9.775</td>\n",
       "      <td>4.725</td>\n",
       "      <td>15.870</td>\n",
       "      <td>68.75</td>\n",
       "    </tr>\n",
       "    <tr>\n",
       "      <th>3</th>\n",
       "      <td>t</td>\n",
       "      <td>w</td>\n",
       "      <td>163.0</td>\n",
       "      <td>0.492270</td>\n",
       "      <td>27.000830</td>\n",
       "      <td>-155.56</td>\n",
       "      <td>-14.550</td>\n",
       "      <td>0.000</td>\n",
       "      <td>16.855</td>\n",
       "      <td>75.71</td>\n",
       "    </tr>\n",
       "  </tbody>\n",
       "</table>\n",
       "</div>"
      ],
      "text/plain": [
       "            dinamics                                                      \\\n",
       "            describe                                                       \n",
       "  group sex    count      mean        std     min     25%    50%     75%   \n",
       "0     c   m    291.0 -0.783299  27.110291 -184.62 -12.360 -1.630  13.375   \n",
       "1     c   w    291.0 -1.271649  27.396157 -180.00 -16.240 -0.640  13.130   \n",
       "2     t   m    134.0  3.402910  21.990548  -54.76  -9.775  4.725  15.870   \n",
       "3     t   w    163.0  0.492270  27.000830 -155.56 -14.550  0.000  16.855   \n",
       "\n",
       "           \n",
       "           \n",
       "      max  \n",
       "0  100.00  \n",
       "1  100.00  \n",
       "2   68.75  \n",
       "3   75.71  "
      ]
     },
     "execution_count": 113,
     "metadata": {},
     "output_type": "execute_result"
    }
   ],
   "source": [
    "gr_din_gr_sex = empl_nps_learn_2.groupby(\n",
    "    by=['group', 'sex']).agg(math_func)\n",
    "\n",
    "gr_din_gr_sex=gr_din_gr_sex.reset_index(col_level = 2)\n",
    "gr_din_gr_sex"
   ]
  },
  {
   "cell_type": "code",
   "execution_count": 114,
   "id": "ad7aa584",
   "metadata": {},
   "outputs": [
    {
     "data": {
      "image/png": "[encoded data removed]",
      "text/plain": [
       "<Figure size 473x432 with 1 Axes>"
      ]
     },
     "metadata": {},
     "output_type": "display_data"
    }
   ],
   "source": [
    "plot_segments_distribution(empl_nps_learn_2, ['sex'], 'group')"
   ]
  },
  {
   "cell_type": "markdown",
   "id": "7905cfc8",
   "metadata": {},
   "source": [
    "### Описательная статистика группа/дивизион:"
   ]
  },
  {
   "cell_type": "code",
   "execution_count": 115,
   "id": "efd1c03b",
   "metadata": {},
   "outputs": [
    {
     "data": {
      "text/html": [
       "<div>\n",
       "<style scoped>\n",
       "    .dataframe tbody tr th:only-of-type {\n",
       "        vertical-align: middle;\n",
       "    }\n",
       "\n",
       "    .dataframe tbody tr th {\n",
       "        vertical-align: top;\n",
       "    }\n",
       "\n",
       "    .dataframe thead tr th {\n",
       "        text-align: left;\n",
       "    }\n",
       "</style>\n",
       "<table border=\"1\" class=\"dataframe\">\n",
       "  <thead>\n",
       "    <tr>\n",
       "      <th></th>\n",
       "      <th colspan=\"2\" halign=\"left\"></th>\n",
       "      <th colspan=\"8\" halign=\"left\">dinamics</th>\n",
       "    </tr>\n",
       "    <tr>\n",
       "      <th></th>\n",
       "      <th colspan=\"2\" halign=\"left\"></th>\n",
       "      <th colspan=\"8\" halign=\"left\">describe</th>\n",
       "    </tr>\n",
       "    <tr>\n",
       "      <th></th>\n",
       "      <th>group</th>\n",
       "      <th>Дивизион</th>\n",
       "      <th>count</th>\n",
       "      <th>mean</th>\n",
       "      <th>std</th>\n",
       "      <th>min</th>\n",
       "      <th>25%</th>\n",
       "      <th>50%</th>\n",
       "      <th>75%</th>\n",
       "      <th>max</th>\n",
       "    </tr>\n",
       "  </thead>\n",
       "  <tbody>\n",
       "    <tr>\n",
       "      <th>0</th>\n",
       "      <td>c</td>\n",
       "      <td>Дальний Восток</td>\n",
       "      <td>291.0</td>\n",
       "      <td>0.032852</td>\n",
       "      <td>26.652719</td>\n",
       "      <td>-171.05</td>\n",
       "      <td>-12.3650</td>\n",
       "      <td>-0.11</td>\n",
       "      <td>13.79</td>\n",
       "      <td>100.00</td>\n",
       "    </tr>\n",
       "    <tr>\n",
       "      <th>1</th>\n",
       "      <td>c</td>\n",
       "      <td>Сибирь</td>\n",
       "      <td>291.0</td>\n",
       "      <td>-2.087801</td>\n",
       "      <td>27.803115</td>\n",
       "      <td>-184.62</td>\n",
       "      <td>-14.8800</td>\n",
       "      <td>-2.18</td>\n",
       "      <td>12.50</td>\n",
       "      <td>100.00</td>\n",
       "    </tr>\n",
       "    <tr>\n",
       "      <th>2</th>\n",
       "      <td>t</td>\n",
       "      <td>Дальний Восток</td>\n",
       "      <td>147.0</td>\n",
       "      <td>1.869184</td>\n",
       "      <td>22.699797</td>\n",
       "      <td>-66.67</td>\n",
       "      <td>-13.1000</td>\n",
       "      <td>3.18</td>\n",
       "      <td>14.48</td>\n",
       "      <td>64.29</td>\n",
       "    </tr>\n",
       "    <tr>\n",
       "      <th>3</th>\n",
       "      <td>t</td>\n",
       "      <td>Сибирь</td>\n",
       "      <td>150.0</td>\n",
       "      <td>1.743067</td>\n",
       "      <td>26.899367</td>\n",
       "      <td>-155.56</td>\n",
       "      <td>-12.4825</td>\n",
       "      <td>0.00</td>\n",
       "      <td>17.95</td>\n",
       "      <td>75.71</td>\n",
       "    </tr>\n",
       "  </tbody>\n",
       "</table>\n",
       "</div>"
      ],
      "text/plain": [
       "                        dinamics                                              \\\n",
       "                        describe                                               \n",
       "  group        Дивизион    count      mean        std     min      25%   50%   \n",
       "0     c  Дальний Восток    291.0  0.032852  26.652719 -171.05 -12.3650 -0.11   \n",
       "1     c          Сибирь    291.0 -2.087801  27.803115 -184.62 -14.8800 -2.18   \n",
       "2     t  Дальний Восток    147.0  1.869184  22.699797  -66.67 -13.1000  3.18   \n",
       "3     t          Сибирь    150.0  1.743067  26.899367 -155.56 -12.4825  0.00   \n",
       "\n",
       "                  \n",
       "                  \n",
       "     75%     max  \n",
       "0  13.79  100.00  \n",
       "1  12.50  100.00  \n",
       "2  14.48   64.29  \n",
       "3  17.95   75.71  "
      ]
     },
     "execution_count": 115,
     "metadata": {},
     "output_type": "execute_result"
    }
   ],
   "source": [
    "gr_din_gr_div = empl_nps_learn_2.groupby(\n",
    "    by=['group', 'Дивизион']).agg(math_func)\n",
    "\n",
    "gr_din_gr_div=gr_din_gr_div.reset_index(col_level = 2)\n",
    "gr_din_gr_div"
   ]
  },
  {
   "cell_type": "code",
   "execution_count": 116,
   "id": "ff2f095a",
   "metadata": {},
   "outputs": [
    {
     "data": {
      "image/png": "[encoded data removed]",
      "text/plain": [
       "<Figure size 473x432 with 1 Axes>"
      ]
     },
     "metadata": {},
     "output_type": "display_data"
    }
   ],
   "source": [
    "plot_segments_distribution(empl_nps_learn_2, ['Дивизион'], 'group')"
   ]
  },
  {
   "cell_type": "markdown",
   "id": "ce2d5b34",
   "metadata": {},
   "source": [
    "### Описательная статистика группа/опыт/пол:"
   ]
  },
  {
   "cell_type": "code",
   "execution_count": 117,
   "id": "e504ec4b",
   "metadata": {},
   "outputs": [
    {
     "data": {
      "text/html": [
       "<div>\n",
       "<style scoped>\n",
       "    .dataframe tbody tr th:only-of-type {\n",
       "        vertical-align: middle;\n",
       "    }\n",
       "\n",
       "    .dataframe tbody tr th {\n",
       "        vertical-align: top;\n",
       "    }\n",
       "\n",
       "    .dataframe thead tr th {\n",
       "        text-align: left;\n",
       "    }\n",
       "</style>\n",
       "<table border=\"1\" class=\"dataframe\">\n",
       "  <thead>\n",
       "    <tr>\n",
       "      <th></th>\n",
       "      <th colspan=\"3\" halign=\"left\"></th>\n",
       "      <th colspan=\"8\" halign=\"left\">dinamics</th>\n",
       "    </tr>\n",
       "    <tr>\n",
       "      <th></th>\n",
       "      <th colspan=\"3\" halign=\"left\"></th>\n",
       "      <th colspan=\"8\" halign=\"left\">describe</th>\n",
       "    </tr>\n",
       "    <tr>\n",
       "      <th></th>\n",
       "      <th>group</th>\n",
       "      <th>exp_group</th>\n",
       "      <th>sex</th>\n",
       "      <th>count</th>\n",
       "      <th>mean</th>\n",
       "      <th>std</th>\n",
       "      <th>min</th>\n",
       "      <th>25%</th>\n",
       "      <th>50%</th>\n",
       "      <th>75%</th>\n",
       "      <th>max</th>\n",
       "    </tr>\n",
       "  </thead>\n",
       "  <tbody>\n",
       "    <tr>\n",
       "      <th>0</th>\n",
       "      <td>c</td>\n",
       "      <td>6-12 мес.</td>\n",
       "      <td>m</td>\n",
       "      <td>91.0</td>\n",
       "      <td>-0.348571</td>\n",
       "      <td>22.985132</td>\n",
       "      <td>-52.78</td>\n",
       "      <td>-13.8800</td>\n",
       "      <td>-2.900</td>\n",
       "      <td>13.7800</td>\n",
       "      <td>100.00</td>\n",
       "    </tr>\n",
       "    <tr>\n",
       "      <th>1</th>\n",
       "      <td>c</td>\n",
       "      <td>6-12 мес.</td>\n",
       "      <td>w</td>\n",
       "      <td>82.0</td>\n",
       "      <td>-2.213537</td>\n",
       "      <td>35.150066</td>\n",
       "      <td>-180.00</td>\n",
       "      <td>-16.6000</td>\n",
       "      <td>-2.225</td>\n",
       "      <td>11.8625</td>\n",
       "      <td>100.00</td>\n",
       "    </tr>\n",
       "    <tr>\n",
       "      <th>2</th>\n",
       "      <td>c</td>\n",
       "      <td>&lt; 6 мес.</td>\n",
       "      <td>m</td>\n",
       "      <td>25.0</td>\n",
       "      <td>-10.333600</td>\n",
       "      <td>45.916983</td>\n",
       "      <td>-184.62</td>\n",
       "      <td>-16.4000</td>\n",
       "      <td>-4.170</td>\n",
       "      <td>18.0000</td>\n",
       "      <td>47.06</td>\n",
       "    </tr>\n",
       "    <tr>\n",
       "      <th>3</th>\n",
       "      <td>c</td>\n",
       "      <td>&lt; 6 мес.</td>\n",
       "      <td>w</td>\n",
       "      <td>20.0</td>\n",
       "      <td>6.467500</td>\n",
       "      <td>22.306203</td>\n",
       "      <td>-28.58</td>\n",
       "      <td>-12.3875</td>\n",
       "      <td>10.865</td>\n",
       "      <td>19.5950</td>\n",
       "      <td>50.80</td>\n",
       "    </tr>\n",
       "    <tr>\n",
       "      <th>4</th>\n",
       "      <td>c</td>\n",
       "      <td>&gt; 1 года</td>\n",
       "      <td>m</td>\n",
       "      <td>175.0</td>\n",
       "      <td>0.354971</td>\n",
       "      <td>25.423675</td>\n",
       "      <td>-171.05</td>\n",
       "      <td>-11.4700</td>\n",
       "      <td>-0.110</td>\n",
       "      <td>13.2700</td>\n",
       "      <td>75.00</td>\n",
       "    </tr>\n",
       "    <tr>\n",
       "      <th>5</th>\n",
       "      <td>c</td>\n",
       "      <td>&gt; 1 года</td>\n",
       "      <td>w</td>\n",
       "      <td>189.0</td>\n",
       "      <td>-1.681958</td>\n",
       "      <td>23.837372</td>\n",
       "      <td>-127.27</td>\n",
       "      <td>-15.4400</td>\n",
       "      <td>0.000</td>\n",
       "      <td>12.2000</td>\n",
       "      <td>80.00</td>\n",
       "    </tr>\n",
       "    <tr>\n",
       "      <th>6</th>\n",
       "      <td>t</td>\n",
       "      <td>6-12 мес.</td>\n",
       "      <td>m</td>\n",
       "      <td>33.0</td>\n",
       "      <td>1.372121</td>\n",
       "      <td>15.242094</td>\n",
       "      <td>-25.19</td>\n",
       "      <td>-9.8000</td>\n",
       "      <td>3.840</td>\n",
       "      <td>13.9400</td>\n",
       "      <td>29.17</td>\n",
       "    </tr>\n",
       "    <tr>\n",
       "      <th>7</th>\n",
       "      <td>t</td>\n",
       "      <td>6-12 мес.</td>\n",
       "      <td>w</td>\n",
       "      <td>49.0</td>\n",
       "      <td>3.290612</td>\n",
       "      <td>25.759188</td>\n",
       "      <td>-65.15</td>\n",
       "      <td>-16.1300</td>\n",
       "      <td>9.650</td>\n",
       "      <td>23.3300</td>\n",
       "      <td>54.17</td>\n",
       "    </tr>\n",
       "    <tr>\n",
       "      <th>8</th>\n",
       "      <td>t</td>\n",
       "      <td>&lt; 6 мес.</td>\n",
       "      <td>m</td>\n",
       "      <td>49.0</td>\n",
       "      <td>10.193061</td>\n",
       "      <td>22.760784</td>\n",
       "      <td>-30.95</td>\n",
       "      <td>2.4200</td>\n",
       "      <td>7.700</td>\n",
       "      <td>22.9200</td>\n",
       "      <td>64.29</td>\n",
       "    </tr>\n",
       "    <tr>\n",
       "      <th>9</th>\n",
       "      <td>t</td>\n",
       "      <td>&lt; 6 мес.</td>\n",
       "      <td>w</td>\n",
       "      <td>33.0</td>\n",
       "      <td>-6.181818</td>\n",
       "      <td>33.830188</td>\n",
       "      <td>-155.56</td>\n",
       "      <td>-15.4300</td>\n",
       "      <td>-3.290</td>\n",
       "      <td>4.7900</td>\n",
       "      <td>44.83</td>\n",
       "    </tr>\n",
       "    <tr>\n",
       "      <th>10</th>\n",
       "      <td>t</td>\n",
       "      <td>&gt; 1 года</td>\n",
       "      <td>m</td>\n",
       "      <td>52.0</td>\n",
       "      <td>-1.706731</td>\n",
       "      <td>23.540921</td>\n",
       "      <td>-54.76</td>\n",
       "      <td>-16.7450</td>\n",
       "      <td>0.900</td>\n",
       "      <td>14.3075</td>\n",
       "      <td>68.75</td>\n",
       "    </tr>\n",
       "    <tr>\n",
       "      <th>11</th>\n",
       "      <td>t</td>\n",
       "      <td>&gt; 1 года</td>\n",
       "      <td>w</td>\n",
       "      <td>81.0</td>\n",
       "      <td>1.518519</td>\n",
       "      <td>24.416485</td>\n",
       "      <td>-66.67</td>\n",
       "      <td>-12.9900</td>\n",
       "      <td>0.850</td>\n",
       "      <td>12.7000</td>\n",
       "      <td>75.71</td>\n",
       "    </tr>\n",
       "  </tbody>\n",
       "</table>\n",
       "</div>"
      ],
      "text/plain": [
       "                        dinamics                                         \\\n",
       "                        describe                                          \n",
       "   group  exp_group sex    count       mean        std     min      25%   \n",
       "0      c  6-12 мес.   m     91.0  -0.348571  22.985132  -52.78 -13.8800   \n",
       "1      c  6-12 мес.   w     82.0  -2.213537  35.150066 -180.00 -16.6000   \n",
       "2      c   < 6 мес.   m     25.0 -10.333600  45.916983 -184.62 -16.4000   \n",
       "3      c   < 6 мес.   w     20.0   6.467500  22.306203  -28.58 -12.3875   \n",
       "4      c   > 1 года   m    175.0   0.354971  25.423675 -171.05 -11.4700   \n",
       "5      c   > 1 года   w    189.0  -1.681958  23.837372 -127.27 -15.4400   \n",
       "6      t  6-12 мес.   m     33.0   1.372121  15.242094  -25.19  -9.8000   \n",
       "7      t  6-12 мес.   w     49.0   3.290612  25.759188  -65.15 -16.1300   \n",
       "8      t   < 6 мес.   m     49.0  10.193061  22.760784  -30.95   2.4200   \n",
       "9      t   < 6 мес.   w     33.0  -6.181818  33.830188 -155.56 -15.4300   \n",
       "10     t   > 1 года   m     52.0  -1.706731  23.540921  -54.76 -16.7450   \n",
       "11     t   > 1 года   w     81.0   1.518519  24.416485  -66.67 -12.9900   \n",
       "\n",
       "                             \n",
       "                             \n",
       "       50%      75%     max  \n",
       "0   -2.900  13.7800  100.00  \n",
       "1   -2.225  11.8625  100.00  \n",
       "2   -4.170  18.0000   47.06  \n",
       "3   10.865  19.5950   50.80  \n",
       "4   -0.110  13.2700   75.00  \n",
       "5    0.000  12.2000   80.00  \n",
       "6    3.840  13.9400   29.17  \n",
       "7    9.650  23.3300   54.17  \n",
       "8    7.700  22.9200   64.29  \n",
       "9   -3.290   4.7900   44.83  \n",
       "10   0.900  14.3075   68.75  \n",
       "11   0.850  12.7000   75.71  "
      ]
     },
     "execution_count": 117,
     "metadata": {},
     "output_type": "execute_result"
    }
   ],
   "source": [
    "gr_din_gr_exp_sex = empl_nps_learn_2.groupby(\n",
    "    by=['group', 'exp_group','sex']).agg(math_func)\n",
    "\n",
    "gr_din_gr_exp_sex=gr_din_gr_exp_sex.reset_index(col_level = 2)\n",
    "gr_din_gr_exp_sex#.sort_values(by = ['mean'], ascending = False)"
   ]
  },
  {
   "cell_type": "code",
   "execution_count": 118,
   "id": "c5d62f0e",
   "metadata": {},
   "outputs": [
    {
     "data": {
      "image/png": "[encoded data removed]",
      "text/plain": [
       "<Figure size 473x432 with 1 Axes>"
      ]
     },
     "metadata": {},
     "output_type": "display_data"
    },
    {
     "data": {
      "image/png": "[encoded data removed]",
      "text/plain": [
       "<Figure size 473x432 with 1 Axes>"
      ]
     },
     "metadata": {},
     "output_type": "display_data"
    }
   ],
   "source": [
    "plot_segments_distribution(empl_nps_learn_2, ['exp_group', 'sex'], 'group')"
   ]
  },
  {
   "cell_type": "code",
   "execution_count": 120,
   "id": "3858c87a",
   "metadata": {},
   "outputs": [
    {
     "data": {
      "text/html": [
       "<div>\n",
       "<style scoped>\n",
       "    .dataframe tbody tr th:only-of-type {\n",
       "        vertical-align: middle;\n",
       "    }\n",
       "\n",
       "    .dataframe tbody tr th {\n",
       "        vertical-align: top;\n",
       "    }\n",
       "\n",
       "    .dataframe thead tr th {\n",
       "        text-align: left;\n",
       "    }\n",
       "</style>\n",
       "<table border=\"1\" class=\"dataframe\">\n",
       "  <thead>\n",
       "    <tr>\n",
       "      <th></th>\n",
       "      <th colspan=\"3\" halign=\"left\"></th>\n",
       "      <th colspan=\"8\" halign=\"left\">dinamics</th>\n",
       "    </tr>\n",
       "    <tr>\n",
       "      <th></th>\n",
       "      <th colspan=\"3\" halign=\"left\"></th>\n",
       "      <th colspan=\"8\" halign=\"left\">describe</th>\n",
       "    </tr>\n",
       "    <tr>\n",
       "      <th></th>\n",
       "      <th>group</th>\n",
       "      <th>exp_group</th>\n",
       "      <th>sex</th>\n",
       "      <th>count</th>\n",
       "      <th>mean</th>\n",
       "      <th>std</th>\n",
       "      <th>min</th>\n",
       "      <th>25%</th>\n",
       "      <th>50%</th>\n",
       "      <th>75%</th>\n",
       "      <th>max</th>\n",
       "    </tr>\n",
       "  </thead>\n",
       "  <tbody>\n",
       "    <tr>\n",
       "      <th>8</th>\n",
       "      <td>t</td>\n",
       "      <td>&lt; 6 мес.</td>\n",
       "      <td>m</td>\n",
       "      <td>49.0</td>\n",
       "      <td>10.193061</td>\n",
       "      <td>22.760784</td>\n",
       "      <td>-30.95</td>\n",
       "      <td>2.4200</td>\n",
       "      <td>7.700</td>\n",
       "      <td>22.9200</td>\n",
       "      <td>64.29</td>\n",
       "    </tr>\n",
       "    <tr>\n",
       "      <th>3</th>\n",
       "      <td>c</td>\n",
       "      <td>&lt; 6 мес.</td>\n",
       "      <td>w</td>\n",
       "      <td>20.0</td>\n",
       "      <td>6.467500</td>\n",
       "      <td>22.306203</td>\n",
       "      <td>-28.58</td>\n",
       "      <td>-12.3875</td>\n",
       "      <td>10.865</td>\n",
       "      <td>19.5950</td>\n",
       "      <td>50.80</td>\n",
       "    </tr>\n",
       "    <tr>\n",
       "      <th>7</th>\n",
       "      <td>t</td>\n",
       "      <td>6-12 мес.</td>\n",
       "      <td>w</td>\n",
       "      <td>49.0</td>\n",
       "      <td>3.290612</td>\n",
       "      <td>25.759188</td>\n",
       "      <td>-65.15</td>\n",
       "      <td>-16.1300</td>\n",
       "      <td>9.650</td>\n",
       "      <td>23.3300</td>\n",
       "      <td>54.17</td>\n",
       "    </tr>\n",
       "    <tr>\n",
       "      <th>11</th>\n",
       "      <td>t</td>\n",
       "      <td>&gt; 1 года</td>\n",
       "      <td>w</td>\n",
       "      <td>81.0</td>\n",
       "      <td>1.518519</td>\n",
       "      <td>24.416485</td>\n",
       "      <td>-66.67</td>\n",
       "      <td>-12.9900</td>\n",
       "      <td>0.850</td>\n",
       "      <td>12.7000</td>\n",
       "      <td>75.71</td>\n",
       "    </tr>\n",
       "    <tr>\n",
       "      <th>6</th>\n",
       "      <td>t</td>\n",
       "      <td>6-12 мес.</td>\n",
       "      <td>m</td>\n",
       "      <td>33.0</td>\n",
       "      <td>1.372121</td>\n",
       "      <td>15.242094</td>\n",
       "      <td>-25.19</td>\n",
       "      <td>-9.8000</td>\n",
       "      <td>3.840</td>\n",
       "      <td>13.9400</td>\n",
       "      <td>29.17</td>\n",
       "    </tr>\n",
       "    <tr>\n",
       "      <th>4</th>\n",
       "      <td>c</td>\n",
       "      <td>&gt; 1 года</td>\n",
       "      <td>m</td>\n",
       "      <td>175.0</td>\n",
       "      <td>0.354971</td>\n",
       "      <td>25.423675</td>\n",
       "      <td>-171.05</td>\n",
       "      <td>-11.4700</td>\n",
       "      <td>-0.110</td>\n",
       "      <td>13.2700</td>\n",
       "      <td>75.00</td>\n",
       "    </tr>\n",
       "    <tr>\n",
       "      <th>0</th>\n",
       "      <td>c</td>\n",
       "      <td>6-12 мес.</td>\n",
       "      <td>m</td>\n",
       "      <td>91.0</td>\n",
       "      <td>-0.348571</td>\n",
       "      <td>22.985132</td>\n",
       "      <td>-52.78</td>\n",
       "      <td>-13.8800</td>\n",
       "      <td>-2.900</td>\n",
       "      <td>13.7800</td>\n",
       "      <td>100.00</td>\n",
       "    </tr>\n",
       "    <tr>\n",
       "      <th>5</th>\n",
       "      <td>c</td>\n",
       "      <td>&gt; 1 года</td>\n",
       "      <td>w</td>\n",
       "      <td>189.0</td>\n",
       "      <td>-1.681958</td>\n",
       "      <td>23.837372</td>\n",
       "      <td>-127.27</td>\n",
       "      <td>-15.4400</td>\n",
       "      <td>0.000</td>\n",
       "      <td>12.2000</td>\n",
       "      <td>80.00</td>\n",
       "    </tr>\n",
       "    <tr>\n",
       "      <th>10</th>\n",
       "      <td>t</td>\n",
       "      <td>&gt; 1 года</td>\n",
       "      <td>m</td>\n",
       "      <td>52.0</td>\n",
       "      <td>-1.706731</td>\n",
       "      <td>23.540921</td>\n",
       "      <td>-54.76</td>\n",
       "      <td>-16.7450</td>\n",
       "      <td>0.900</td>\n",
       "      <td>14.3075</td>\n",
       "      <td>68.75</td>\n",
       "    </tr>\n",
       "    <tr>\n",
       "      <th>1</th>\n",
       "      <td>c</td>\n",
       "      <td>6-12 мес.</td>\n",
       "      <td>w</td>\n",
       "      <td>82.0</td>\n",
       "      <td>-2.213537</td>\n",
       "      <td>35.150066</td>\n",
       "      <td>-180.00</td>\n",
       "      <td>-16.6000</td>\n",
       "      <td>-2.225</td>\n",
       "      <td>11.8625</td>\n",
       "      <td>100.00</td>\n",
       "    </tr>\n",
       "    <tr>\n",
       "      <th>9</th>\n",
       "      <td>t</td>\n",
       "      <td>&lt; 6 мес.</td>\n",
       "      <td>w</td>\n",
       "      <td>33.0</td>\n",
       "      <td>-6.181818</td>\n",
       "      <td>33.830188</td>\n",
       "      <td>-155.56</td>\n",
       "      <td>-15.4300</td>\n",
       "      <td>-3.290</td>\n",
       "      <td>4.7900</td>\n",
       "      <td>44.83</td>\n",
       "    </tr>\n",
       "    <tr>\n",
       "      <th>2</th>\n",
       "      <td>c</td>\n",
       "      <td>&lt; 6 мес.</td>\n",
       "      <td>m</td>\n",
       "      <td>25.0</td>\n",
       "      <td>-10.333600</td>\n",
       "      <td>45.916983</td>\n",
       "      <td>-184.62</td>\n",
       "      <td>-16.4000</td>\n",
       "      <td>-4.170</td>\n",
       "      <td>18.0000</td>\n",
       "      <td>47.06</td>\n",
       "    </tr>\n",
       "  </tbody>\n",
       "</table>\n",
       "</div>"
      ],
      "text/plain": [
       "                        dinamics                                         \\\n",
       "                        describe                                          \n",
       "   group  exp_group sex    count       mean        std     min      25%   \n",
       "8      t   < 6 мес.   m     49.0  10.193061  22.760784  -30.95   2.4200   \n",
       "3      c   < 6 мес.   w     20.0   6.467500  22.306203  -28.58 -12.3875   \n",
       "7      t  6-12 мес.   w     49.0   3.290612  25.759188  -65.15 -16.1300   \n",
       "11     t   > 1 года   w     81.0   1.518519  24.416485  -66.67 -12.9900   \n",
       "6      t  6-12 мес.   m     33.0   1.372121  15.242094  -25.19  -9.8000   \n",
       "4      c   > 1 года   m    175.0   0.354971  25.423675 -171.05 -11.4700   \n",
       "0      c  6-12 мес.   m     91.0  -0.348571  22.985132  -52.78 -13.8800   \n",
       "5      c   > 1 года   w    189.0  -1.681958  23.837372 -127.27 -15.4400   \n",
       "10     t   > 1 года   m     52.0  -1.706731  23.540921  -54.76 -16.7450   \n",
       "1      c  6-12 мес.   w     82.0  -2.213537  35.150066 -180.00 -16.6000   \n",
       "9      t   < 6 мес.   w     33.0  -6.181818  33.830188 -155.56 -15.4300   \n",
       "2      c   < 6 мес.   m     25.0 -10.333600  45.916983 -184.62 -16.4000   \n",
       "\n",
       "                             \n",
       "                             \n",
       "       50%      75%     max  \n",
       "8    7.700  22.9200   64.29  \n",
       "3   10.865  19.5950   50.80  \n",
       "7    9.650  23.3300   54.17  \n",
       "11   0.850  12.7000   75.71  \n",
       "6    3.840  13.9400   29.17  \n",
       "4   -0.110  13.2700   75.00  \n",
       "0   -2.900  13.7800  100.00  \n",
       "5    0.000  12.2000   80.00  \n",
       "10   0.900  14.3075   68.75  \n",
       "1   -2.225  11.8625  100.00  \n",
       "9   -3.290   4.7900   44.83  \n",
       "2   -4.170  18.0000   47.06  "
      ]
     },
     "execution_count": 120,
     "metadata": {},
     "output_type": "execute_result"
    }
   ],
   "source": [
    "gr_din_gr_exp_sex.sort_values(by = [('dinamics', 'describe', 'mean')], ascending = False)"
   ]
  },
  {
   "cell_type": "markdown",
   "id": "b586d7d1",
   "metadata": {},
   "source": [
    "### Вычисление доли вхождения в целевой показатель от тех кто предварительно имел показатель ниже допустимого:"
   ]
  },
  {
   "cell_type": "code",
   "execution_count": null,
   "id": "d73ef0b1",
   "metadata": {},
   "outputs": [],
   "source": [
    "# Предобрабатываю данные для будущего подсчета доли вхождения в целевой и допустимый\n",
    "empl_nps_goal = empl_nps_learn_2[empl_nps_learn_2['tNps_ДО']<0.71]\n",
    "empl_nps_goal['addmissible'] = np.where(empl_nps_goal['tNPS_after']>=0.7, 1, 0)\n",
    "empl_nps_goal['goal'] = np.where(empl_nps_goal['tNPS_after']>=0.75, 1, 0)"
   ]
  },
  {
   "cell_type": "code",
   "execution_count": 127,
   "id": "e95bc99e",
   "metadata": {},
   "outputs": [
    {
     "data": {
      "text/html": [
       "<div>\n",
       "<style scoped>\n",
       "    .dataframe tbody tr th:only-of-type {\n",
       "        vertical-align: middle;\n",
       "    }\n",
       "\n",
       "    .dataframe tbody tr th {\n",
       "        vertical-align: top;\n",
       "    }\n",
       "\n",
       "    .dataframe thead th {\n",
       "        text-align: right;\n",
       "    }\n",
       "</style>\n",
       "<table border=\"1\" class=\"dataframe\">\n",
       "  <thead>\n",
       "    <tr style=\"text-align: right;\">\n",
       "      <th></th>\n",
       "      <th>goal</th>\n",
       "    </tr>\n",
       "    <tr>\n",
       "      <th>group</th>\n",
       "      <th></th>\n",
       "    </tr>\n",
       "  </thead>\n",
       "  <tbody>\n",
       "    <tr>\n",
       "      <th>c</th>\n",
       "      <td>39.062500</td>\n",
       "    </tr>\n",
       "    <tr>\n",
       "      <th>t</th>\n",
       "      <td>31.288344</td>\n",
       "    </tr>\n",
       "  </tbody>\n",
       "</table>\n",
       "</div>"
      ],
      "text/plain": [
       "            goal\n",
       "group           \n",
       "c      39.062500\n",
       "t      31.288344"
      ]
     },
     "execution_count": 127,
     "metadata": {},
     "output_type": "execute_result"
    }
   ],
   "source": [
    "empl_nps_goal.groupby(by = ['group']).agg({'goal':'mean'})*100"
   ]
  },
  {
   "cell_type": "code",
   "execution_count": 128,
   "id": "eab7d994",
   "metadata": {},
   "outputs": [],
   "source": [
    "# Функция для быстрой отрисовки распределений:\n",
    "def plot_segments_distribution_goal(df, segment_columns, test_factor):\n",
    "    for segment in segment_columns:\n",
    "        aggregated_data = df.groupby(by = [test_factor, segment])['goal'].mean().reset_index()\n",
    "        sns.catplot(x = segment, \n",
    "                    y = 'goal', \n",
    "                    hue = test_factor, # сообщаем, что хотим, чтобы разные группы имели разный цвет\n",
    "                    data = aggregated_data, \n",
    "                    kind = \"bar\", \n",
    "                    height = 6, # задаем размер графика \n",
    "                    aspect = 1) # задаем ширину столбца"
   ]
  },
  {
   "cell_type": "code",
   "execution_count": 132,
   "id": "8475b53d",
   "metadata": {},
   "outputs": [
    {
     "data": {
      "text/plain": [
       "<AxesSubplot:xlabel='group'>"
      ]
     },
     "execution_count": 132,
     "metadata": {},
     "output_type": "execute_result"
    },
    {
     "data": {
      "image/png": "[encoded data removed]",
      "text/plain": [
       "<Figure size 720x360 with 1 Axes>"
      ]
     },
     "metadata": {},
     "output_type": "display_data"
    }
   ],
   "source": [
    "empl_nps_goal.groupby(['group']).agg('mean')[['goal']].plot(kind='bar',\n",
    "                                                           figsize=(10, 5),\n",
    "                                                           )"
   ]
  },
  {
   "cell_type": "code",
   "execution_count": 130,
   "id": "498ef3d4",
   "metadata": {},
   "outputs": [
    {
     "data": {
      "image/png": "[encoded data removed]",
      "text/plain": [
       "<Figure size 473x432 with 1 Axes>"
      ]
     },
     "metadata": {},
     "output_type": "display_data"
    }
   ],
   "source": [
    "plot_segments_distribution_goal(empl_nps_goal, ['Дивизион'], 'group')"
   ]
  },
  {
   "cell_type": "code",
   "execution_count": 131,
   "id": "2650a721",
   "metadata": {},
   "outputs": [
    {
     "data": {
      "image/png": "[encoded data removed]",
      "text/plain": [
       "<Figure size 473x432 with 1 Axes>"
      ]
     },
     "metadata": {},
     "output_type": "display_data"
    }
   ],
   "source": [
    "plot_segments_distribution_goal(empl_nps_goal, ['exp_group'], 'group')"
   ]
  },
  {
   "cell_type": "markdown",
   "id": "d6973864",
   "metadata": {},
   "source": [
    "### Вычисление доли вхождения в допустимый показатель от тех кто предварительно имел показатель ниже допустимого:"
   ]
  },
  {
   "cell_type": "code",
   "execution_count": 133,
   "id": "1e72b2d1",
   "metadata": {},
   "outputs": [],
   "source": [
    "def plot_segments_distribution_adm(df, segment_columns, test_factor):\n",
    "    for segment in segment_columns:\n",
    "        aggregated_data = df.groupby(by = [test_factor, segment])['addmissible'].mean().reset_index()\n",
    "        sns.catplot(x = segment, \n",
    "                    y = 'addmissible', \n",
    "                    hue = test_factor, # сообщаем, что хотим, чтобы разные группы имели разный цвет\n",
    "                    data = aggregated_data, \n",
    "                    kind = \"bar\", \n",
    "                    height = 6, # задаем размер графика \n",
    "                    aspect = 1) # задаем ширину столбца"
   ]
  },
  {
   "cell_type": "code",
   "execution_count": 134,
   "id": "56edd41b",
   "metadata": {},
   "outputs": [
    {
     "data": {
      "text/plain": [
       "<AxesSubplot:xlabel='group'>"
      ]
     },
     "execution_count": 134,
     "metadata": {},
     "output_type": "execute_result"
    },
    {
     "data": {
      "image/png": "[encoded data removed]",
      "text/plain": [
       "<Figure size 720x360 with 1 Axes>"
      ]
     },
     "metadata": {},
     "output_type": "display_data"
    }
   ],
   "source": [
    "empl_nps_goal.groupby(['group']).agg('mean')[['addmissible']].plot(kind='bar',\n",
    "                                                           figsize=(10, 5),\n",
    "                                                           )"
   ]
  },
  {
   "cell_type": "code",
   "execution_count": 135,
   "id": "e7be8dfb",
   "metadata": {},
   "outputs": [
    {
     "data": {
      "image/png": "[encoded data removed]",
      "text/plain": [
       "<Figure size 473x432 with 1 Axes>"
      ]
     },
     "metadata": {},
     "output_type": "display_data"
    }
   ],
   "source": [
    "plot_segments_distribution_adm(empl_nps_goal, ['Дивизион'], 'group')"
   ]
  },
  {
   "cell_type": "code",
   "execution_count": 136,
   "id": "3b14a213",
   "metadata": {},
   "outputs": [
    {
     "data": {
      "image/png": "[encoded data removed]",
      "text/plain": [
       "<Figure size 473x432 with 1 Axes>"
      ]
     },
     "metadata": {},
     "output_type": "display_data"
    }
   ],
   "source": [
    "plot_segments_distribution_adm(empl_nps_goal, ['exp_group'], 'group')"
   ]
  },
  {
   "cell_type": "markdown",
   "id": "e8fb89ca",
   "metadata": {},
   "source": [
    "# A/B Tests:"
   ]
  },
  {
   "cell_type": "markdown",
   "id": "088ee3b5",
   "metadata": {},
   "source": [
    "#### A/B test динамики tNps:"
   ]
  },
  {
   "cell_type": "code",
   "execution_count": 137,
   "id": "89d7b885",
   "metadata": {},
   "outputs": [],
   "source": [
    "empl_nps_ab = empl_nps_learn_2"
   ]
  },
  {
   "cell_type": "code",
   "execution_count": 138,
   "id": "2cd0f83b",
   "metadata": {},
   "outputs": [],
   "source": [
    "import scipy\n",
    "from scipy.stats import ttest_ind"
   ]
  },
  {
   "cell_type": "code",
   "execution_count": 141,
   "id": "4ccc7c56",
   "metadata": {},
   "outputs": [],
   "source": [
    "s, p = ttest_ind(empl_nps_ab[empl_nps_ab['group'] == 'c']['dinamics'],\n",
    "                 empl_nps_ab[empl_nps_ab['group'] == 't']['dinamics'])"
   ]
  },
  {
   "cell_type": "code",
   "execution_count": 142,
   "id": "d47b0ca5",
   "metadata": {},
   "outputs": [
    {
     "data": {
      "text/plain": [
       "0.13356932776204627"
      ]
     },
     "execution_count": 142,
     "metadata": {},
     "output_type": "execute_result"
    }
   ],
   "source": [
    "p"
   ]
  },
  {
   "cell_type": "markdown",
   "id": "2f5ca0e5",
   "metadata": {},
   "source": [
    "#### A/B test by expirience:"
   ]
  },
  {
   "cell_type": "code",
   "execution_count": 145,
   "id": "7ee2cfbf",
   "metadata": {
    "scrolled": true
   },
   "outputs": [
    {
     "name": "stdout",
     "output_type": "stream",
     "text": [
      "< 6 мес. p_value = 0.28155774785577475\n",
      "6-12 мес. p_value = 0.3045888942787677\n",
      "> 1 года p_value = 0.698506080177982\n"
     ]
    }
   ],
   "source": [
    "for i in empl_nps_ab['exp_group'].unique():\n",
    "    \n",
    "    s, p = ttest_ind(\n",
    "        empl_nps_ab[(empl_nps_ab['exp_group'] == i)\n",
    "                    & (empl_nps_ab['group'] == 'c')]['dinamics'],\n",
    "        empl_nps_ab[(empl_nps_ab['exp_group'] == i)\n",
    "                    & (empl_nps_ab['group'] == 't')]['dinamics'])\n",
    "    print (f'{i} p_value = {p}')"
   ]
  },
  {
   "cell_type": "markdown",
   "id": "45fe89a8",
   "metadata": {},
   "source": [
    "#### A/B test by sex:"
   ]
  },
  {
   "cell_type": "code",
   "execution_count": 146,
   "id": "180419ad",
   "metadata": {},
   "outputs": [
    {
     "name": "stdout",
     "output_type": "stream",
     "text": [
      "m p_value = 0.11817602856530705\n",
      "w p_value = 0.5086160598197949\n"
     ]
    }
   ],
   "source": [
    "for i in empl_nps_ab['sex'].unique():\n",
    "    \n",
    "    s, p = ttest_ind(\n",
    "        empl_nps_ab[(empl_nps_ab['sex'] == i)\n",
    "                    & (empl_nps_ab['group'] == 'c')]['dinamics'],\n",
    "        empl_nps_ab[(empl_nps_ab['sex'] == i)\n",
    "                    & (empl_nps_ab['group'] == 't')]['dinamics'])\n",
    "    print (f'{i} p_value = {p}')"
   ]
  },
  {
   "cell_type": "markdown",
   "id": "87c72635",
   "metadata": {},
   "source": [
    "#### A/B test by Division:"
   ]
  },
  {
   "cell_type": "code",
   "execution_count": 147,
   "id": "489ed62b",
   "metadata": {},
   "outputs": [
    {
     "name": "stdout",
     "output_type": "stream",
     "text": [
      "Дальний Восток p_value = 0.47527650522848575\n",
      "Сибирь p_value = 0.1664712791786321\n"
     ]
    }
   ],
   "source": [
    "for i in empl_nps_ab['Дивизион'].unique():\n",
    "    \n",
    "    s, p = ttest_ind(\n",
    "        empl_nps_ab[(empl_nps_ab['Дивизион'] == i)\n",
    "                    & (empl_nps_ab['group'] == 'c')]['dinamics'],\n",
    "        empl_nps_ab[(empl_nps_ab['Дивизион'] == i)\n",
    "                    & (empl_nps_ab['group'] == 't')]['dinamics'])\n",
    "    print (f'{i} p_value = {p}')"
   ]
  },
  {
   "cell_type": "code",
   "execution_count": 183,
   "id": "977f95fa",
   "metadata": {},
   "outputs": [
    {
     "data": {
      "text/plain": [
       "<AxesSubplot:xlabel='group', ylabel='dinamics'>"
      ]
     },
     "execution_count": 183,
     "metadata": {},
     "output_type": "execute_result"
    },
    {
     "data": {
      "image/png": "[encoded data removed]",
      "text/plain": [
       "<Figure size 576x396 with 1 Axes>"
      ]
     },
     "metadata": {},
     "output_type": "display_data"
    }
   ],
   "source": [
    "# Визуализация результатов A/B теста\n",
    "sns.boxplot(x = 'group', y = 'dinamics', data = empl_nps_ab, fliersize=5)"
   ]
  },
  {
   "cell_type": "code",
   "execution_count": 167,
   "id": "bb254f06",
   "metadata": {},
   "outputs": [
    {
     "data": {
      "text/plain": [
       "<AxesSubplot:xlabel='Дивизион', ylabel='dinamics'>"
      ]
     },
     "execution_count": 167,
     "metadata": {},
     "output_type": "execute_result"
    },
    {
     "data": {
      "image/png": "[encoded data removed]",
      "text/plain": [
       "<Figure size 576x396 with 1 Axes>"
      ]
     },
     "metadata": {},
     "output_type": "display_data"
    }
   ],
   "source": [
    "sns.boxplot(x = 'Дивизион', y = 'dinamics', hue = 'group', data = empl_nps_ab)"
   ]
  },
  {
   "cell_type": "code",
   "execution_count": 168,
   "id": "05b450f7",
   "metadata": {},
   "outputs": [
    {
     "data": {
      "text/plain": [
       "<AxesSubplot:xlabel='exp_group', ylabel='dinamics'>"
      ]
     },
     "execution_count": 168,
     "metadata": {},
     "output_type": "execute_result"
    },
    {
     "data": {
      "image/png": "[encoded data removed]",
      "text/plain": [
       "<Figure size 576x396 with 1 Axes>"
      ]
     },
     "metadata": {},
     "output_type": "display_data"
    }
   ],
   "source": [
    "sns.boxplot(x = 'exp_group', y = 'dinamics', hue = 'group', data = empl_nps_ab)"
   ]
  },
  {
   "cell_type": "code",
   "execution_count": 169,
   "id": "1035688e",
   "metadata": {},
   "outputs": [
    {
     "data": {
      "text/plain": [
       "<AxesSubplot:xlabel='sex', ylabel='dinamics'>"
      ]
     },
     "execution_count": 169,
     "metadata": {},
     "output_type": "execute_result"
    },
    {
     "data": {
      "image/png": "[encoded data removed]",
      "text/plain": [
       "<Figure size 576x396 with 1 Axes>"
      ]
     },
     "metadata": {},
     "output_type": "display_data"
    }
   ],
   "source": [
    "sns.boxplot(x = 'sex', y = 'dinamics', hue = 'group', data = empl_nps_ab)"
   ]
  },
  {
   "cell_type": "markdown",
   "id": "6810bc24",
   "metadata": {},
   "source": [
    "### Тест Манна-Уитни"
   ]
  },
  {
   "cell_type": "code",
   "execution_count": 171,
   "id": "eeac0602",
   "metadata": {},
   "outputs": [],
   "source": [
    "empl_nps_ab_t = empl_nps_ab[empl_nps_ab['group']=='t']\n",
    "empl_nps_ab_c = empl_nps_ab[empl_nps_ab['group']=='c']"
   ]
  },
  {
   "cell_type": "code",
   "execution_count": 173,
   "id": "b999b0e9",
   "metadata": {},
   "outputs": [
    {
     "data": {
      "text/plain": [
       "MannwhitneyuResult(statistic=79859.0, pvalue=0.06509059570731446)"
      ]
     },
     "execution_count": 173,
     "metadata": {},
     "output_type": "execute_result"
    }
   ],
   "source": [
    "import scipy.stats as stats\n",
    "\n",
    "stats.mannwhitneyu(x=empl_nps_ab_c['dinamics'],\n",
    "                   y=empl_nps_ab_t['dinamics'],\n",
    "                   alternative='two-sided')"
   ]
  },
  {
   "cell_type": "markdown",
   "id": "d8009e63",
   "metadata": {},
   "source": [
    "### A/B test доли вхождения в целевой:"
   ]
  },
  {
   "cell_type": "code",
   "execution_count": 178,
   "id": "92e4b063",
   "metadata": {},
   "outputs": [
    {
     "name": "stdout",
     "output_type": "stream",
     "text": [
      "p_value: 0.10661301817942814\n"
     ]
    }
   ],
   "source": [
    "s_g, p_g = ttest_ind(empl_nps_goal[empl_nps_goal['group'] == 'c']['goal'],\n",
    "                 empl_nps_goal[empl_nps_goal['group'] == 't']['goal'])\n",
    "print (f'p_value: {p_g}')"
   ]
  },
  {
   "cell_type": "markdown",
   "id": "9feeb50d",
   "metadata": {},
   "source": [
    "## Boostrap"
   ]
  },
  {
   "cell_type": "code",
   "execution_count": 189,
   "id": "c9531f02",
   "metadata": {},
   "outputs": [],
   "source": [
    "# Импортируем библиотеку и модули:\n",
    "#import bootstrapped\n",
    "import bootstrapped.bootstrap as bs\n",
    "import bootstrapped.stats_functions as bs_stats\n",
    "import bootstrapped.compare_functions as bs_compare"
   ]
  },
  {
   "cell_type": "code",
   "execution_count": 190,
   "id": "77fa43e9",
   "metadata": {},
   "outputs": [],
   "source": [
    "# Смотрю документацию\n",
    "??bs.bootstrap_ab"
   ]
  },
  {
   "cell_type": "code",
   "execution_count": 192,
   "id": "ae2ff8b8",
   "metadata": {},
   "outputs": [],
   "source": [
    "# Создаем 2 переменные контроль/тест и превращаем их в массив\n",
    "test = empl_nps_ab[empl_nps_ab['group']== 't']['dinamics'].values\n",
    "ctrl =  empl_nps_ab[empl_nps_ab['group']== 'c']['dinamics'].values"
   ]
  },
  {
   "cell_type": "code",
   "execution_count": 194,
   "id": "074d4cc0",
   "metadata": {},
   "outputs": [],
   "source": [
    "# Применяем функ-ю bs.bootstrap_ab() и сохраняем результаты в переменную:\n",
    "Boot_results = bs.bootstrap_ab(\n",
    "    test=test,\n",
    "    ctrl=ctrl,\n",
    "    stat_func=bs_stats.mean,  # что ищем (в нашем случае среднее(meen))\n",
    "    compare_func=bs_compare.difference,  # что делаем со средним\n",
    "    return_distribution=True  # Просим функцию вернуть результаты операции\n",
    ")"
   ]
  },
  {
   "cell_type": "code",
   "execution_count": 195,
   "id": "ca3ba790",
   "metadata": {},
   "outputs": [
    {
     "data": {
      "text/plain": [
       "array([2.66634212, 4.33063227, 2.49108733, ..., 2.48221198, 2.80549724,\n",
       "       2.67520011])"
      ]
     },
     "execution_count": 195,
     "metadata": {},
     "output_type": "execute_result"
    }
   ],
   "source": [
    "Boot_results"
   ]
  },
  {
   "cell_type": "code",
   "execution_count": 196,
   "id": "835a4261",
   "metadata": {},
   "outputs": [
    {
     "data": {
      "text/plain": [
       "array([-0.78665962,  6.35635738])"
      ]
     },
     "execution_count": 196,
     "metadata": {},
     "output_type": "execute_result"
    }
   ],
   "source": [
    "# Выводим персентили:\n",
    "borders  = np.percentile(Boot_results, [2.5, 97.5])\n",
    "borders"
   ]
  },
  {
   "cell_type": "code",
   "execution_count": 201,
   "id": "2a618c86",
   "metadata": {},
   "outputs": [
    {
     "data": {
      "image/png": "[encoded data removed]",
      "text/plain": [
       "<Figure size 360x360 with 1 Axes>"
      ]
     },
     "metadata": {},
     "output_type": "display_data"
    }
   ],
   "source": [
    "# Строим график с доверительными интервалами:\n",
    "sns.displot(Boot_results)\n",
    "plt.title ('Распределение разниц динамики tNps')\n",
    "plt.rcParams[\"figure.figsize\"] = (12, 6)\n",
    "plt.vlines(0, ymin =0,  ymax = 500, linestyles= '--', colors = 'red')\n",
    "plt.vlines(borders, ymin = 0,  ymax = 500, linestyles= '--', colors= 'green', label = '95%-дверительный интервал')\n",
    "plt.legend()\n",
    "plt.show()"
   ]
  },
  {
   "cell_type": "markdown",
   "id": "e27c4de2",
   "metadata": {},
   "source": [
    "### Boostrat for goals"
   ]
  },
  {
   "cell_type": "code",
   "execution_count": 231,
   "id": "9479c3d9",
   "metadata": {},
   "outputs": [],
   "source": [
    "test_g = empl_nps_goal[empl_nps_goal['group']== 't']['goal'].dropna().values\n",
    "ctrl_g =  empl_nps_goal[empl_nps_goal['group']== 'c']['goal'].dropna().values"
   ]
  },
  {
   "cell_type": "code",
   "execution_count": 232,
   "id": "69865ac8",
   "metadata": {},
   "outputs": [],
   "source": [
    "# Применяем функ-ю bs.bootstrap_ab() и сохраняем результаты в переменную:\n",
    "Boot_results_g = bs.bootstrap_ab(\n",
    "    test=test_g,\n",
    "    ctrl=ctrl_g,\n",
    "    stat_func=bs_stats.mean,  # что ищем (в нашем случае среднее(meen))\n",
    "    compare_func=bs_compare.difference,  # что делаем со средним\n",
    "    return_distribution=True  # Просим функцию вернуть результаты операции\n",
    ")"
   ]
  },
  {
   "cell_type": "code",
   "execution_count": 233,
   "id": "a9cca7ee",
   "metadata": {},
   "outputs": [
    {
     "data": {
      "text/plain": [
       "array([-0.09111388, -0.13631135, -0.08442772, ..., -0.10451016,\n",
       "       -0.09113785, -0.06825153])"
      ]
     },
     "execution_count": 233,
     "metadata": {},
     "output_type": "execute_result"
    }
   ],
   "source": [
    "Boot_results_g"
   ]
  },
  {
   "cell_type": "code",
   "execution_count": 234,
   "id": "869228f1",
   "metadata": {},
   "outputs": [
    {
     "data": {
      "text/plain": [
       "array([-0.1703784 ,  0.01430754])"
      ]
     },
     "execution_count": 234,
     "metadata": {},
     "output_type": "execute_result"
    }
   ],
   "source": [
    "# Выводим персентили:\n",
    "borders_g  = np.percentile(Boot_results_g, [2.5, 97.5])\n",
    "borders_g"
   ]
  },
  {
   "cell_type": "code",
   "execution_count": 324,
   "id": "f60b5ebc",
   "metadata": {},
   "outputs": [
    {
     "data": {
      "image/png": "[encoded data removed]",
      "text/plain": [
       "<Figure size 360x360 with 1 Axes>"
      ]
     },
     "metadata": {},
     "output_type": "display_data"
    }
   ],
   "source": [
    "# Строим график с доверительными интервалами:\n",
    "sns.displot(Boot_results_g)\n",
    "plt.title ('А/Б тест по доли в целевой')\n",
    "plt.rcParams[\"figure.figsize\"] = (12, 6)\n",
    "plt.vlines(0, ymin =0,  ymax = 500, linestyles= '--', colors = 'red')\n",
    "plt.vlines(borders_g, ymin = 0,  ymax = 500, linestyles= '--', colors= 'green', label = '95%-дверительный интервал')\n",
    "plt.legend()\n",
    "plt.show()"
   ]
  },
  {
   "cell_type": "code",
   "execution_count": 236,
   "id": "142c57bd",
   "metadata": {},
   "outputs": [],
   "source": [
    "empl_nps_goal_gr = empl_nps_goal.groupby(by = ['group']).agg({'barcode_mts':'count', 'goal':'sum'}).reset_index()"
   ]
  },
  {
   "cell_type": "code",
   "execution_count": 237,
   "id": "6b871abd",
   "metadata": {},
   "outputs": [
    {
     "data": {
      "text/html": [
       "<div>\n",
       "<style scoped>\n",
       "    .dataframe tbody tr th:only-of-type {\n",
       "        vertical-align: middle;\n",
       "    }\n",
       "\n",
       "    .dataframe tbody tr th {\n",
       "        vertical-align: top;\n",
       "    }\n",
       "\n",
       "    .dataframe thead th {\n",
       "        text-align: right;\n",
       "    }\n",
       "</style>\n",
       "<table border=\"1\" class=\"dataframe\">\n",
       "  <thead>\n",
       "    <tr style=\"text-align: right;\">\n",
       "      <th></th>\n",
       "      <th>group</th>\n",
       "      <th>barcode_mts</th>\n",
       "      <th>goal</th>\n",
       "    </tr>\n",
       "  </thead>\n",
       "  <tbody>\n",
       "    <tr>\n",
       "      <th>0</th>\n",
       "      <td>c</td>\n",
       "      <td>256</td>\n",
       "      <td>100</td>\n",
       "    </tr>\n",
       "    <tr>\n",
       "      <th>1</th>\n",
       "      <td>t</td>\n",
       "      <td>163</td>\n",
       "      <td>51</td>\n",
       "    </tr>\n",
       "  </tbody>\n",
       "</table>\n",
       "</div>"
      ],
      "text/plain": [
       "  group  barcode_mts  goal\n",
       "0     c          256   100\n",
       "1     t          163    51"
      ]
     },
     "execution_count": 237,
     "metadata": {},
     "output_type": "execute_result"
    }
   ],
   "source": [
    "empl_nps_goal_gr"
   ]
  },
  {
   "cell_type": "code",
   "execution_count": 238,
   "id": "fd0b515d",
   "metadata": {},
   "outputs": [
    {
     "data": {
      "text/html": [
       "<div>\n",
       "<style scoped>\n",
       "    .dataframe tbody tr th:only-of-type {\n",
       "        vertical-align: middle;\n",
       "    }\n",
       "\n",
       "    .dataframe tbody tr th {\n",
       "        vertical-align: top;\n",
       "    }\n",
       "\n",
       "    .dataframe thead th {\n",
       "        text-align: right;\n",
       "    }\n",
       "</style>\n",
       "<table border=\"1\" class=\"dataframe\">\n",
       "  <thead>\n",
       "    <tr style=\"text-align: right;\">\n",
       "      <th></th>\n",
       "      <th>group</th>\n",
       "      <th>barcode_mts</th>\n",
       "      <th>goal</th>\n",
       "      <th>conv</th>\n",
       "    </tr>\n",
       "  </thead>\n",
       "  <tbody>\n",
       "    <tr>\n",
       "      <th>0</th>\n",
       "      <td>c</td>\n",
       "      <td>256</td>\n",
       "      <td>100</td>\n",
       "      <td>39.062500</td>\n",
       "    </tr>\n",
       "    <tr>\n",
       "      <th>1</th>\n",
       "      <td>t</td>\n",
       "      <td>163</td>\n",
       "      <td>51</td>\n",
       "      <td>31.288344</td>\n",
       "    </tr>\n",
       "  </tbody>\n",
       "</table>\n",
       "</div>"
      ],
      "text/plain": [
       "  group  barcode_mts  goal       conv\n",
       "0     c          256   100  39.062500\n",
       "1     t          163    51  31.288344"
      ]
     },
     "execution_count": 238,
     "metadata": {},
     "output_type": "execute_result"
    }
   ],
   "source": [
    "empl_nps_goal_gr['conv'] = empl_nps_goal_gr['goal']/empl_nps_goal_gr['barcode_mts']*100\n",
    "empl_nps_goal_gr"
   ]
  },
  {
   "cell_type": "code",
   "execution_count": 240,
   "id": "99aea307",
   "metadata": {},
   "outputs": [],
   "source": [
    "# Вычисляем Хи-квадрат:\n",
    "import statsmodels.stats.proportion as proportion\n",
    "\n",
    "chi2stat, pval, table = proportion.proportions_chisquare(\n",
    "    empl_nps_goal_gr['goal'], empl_nps_goal_gr['barcode_mts'])"
   ]
  },
  {
   "cell_type": "code",
   "execution_count": 244,
   "id": "9a1619af",
   "metadata": {},
   "outputs": [],
   "source": [
    "alpha = (0.05)"
   ]
  },
  {
   "cell_type": "code",
   "execution_count": 245,
   "id": "634b1cbb",
   "metadata": {},
   "outputs": [
    {
     "name": "stdout",
     "output_type": "stream",
     "text": [
      "False\n"
     ]
    }
   ],
   "source": [
    "print(pval<alpha)"
   ]
  },
  {
   "cell_type": "code",
   "execution_count": 243,
   "id": "29ad60e2",
   "metadata": {},
   "outputs": [
    {
     "data": {
      "text/plain": [
       "0.10611294216650982"
      ]
     },
     "execution_count": 243,
     "metadata": {},
     "output_type": "execute_result"
    }
   ],
   "source": [
    "pval"
   ]
  },
  {
   "cell_type": "code",
   "execution_count": 246,
   "id": "33860822",
   "metadata": {},
   "outputs": [],
   "source": [
    "conversion_control = empl_nps_goal_gr['conv'].values[0]/100\n",
    "conversion_test = empl_nps_goal_gr['conv'].values[1]/100\n",
    "nobs = min(empl_nps_goal_gr['barcode_mts']) # минимальное кол-во наблюдений в одной из групп"
   ]
  },
  {
   "cell_type": "code",
   "execution_count": 247,
   "id": "566bc073",
   "metadata": {},
   "outputs": [
    {
     "data": {
      "text/plain": [
       "0.4895673078133217"
      ]
     },
     "execution_count": 247,
     "metadata": {},
     "output_type": "execute_result"
    }
   ],
   "source": [
    "# Вычисляем мощность:\n",
    "chipower.solve_power(effect_size=chi2_effect_size(conversion_control,\n",
    "                                                  conversion_test),\n",
    "                     nobs=nobs,\n",
    "                     alpha=pval,\n",
    "                     power=None)"
   ]
  },
  {
   "cell_type": "markdown",
   "id": "2b7e53c7",
   "metadata": {},
   "source": [
    "## Вычисление MDE:"
   ]
  },
  {
   "cell_type": "code",
   "execution_count": 248,
   "id": "7bb2a852",
   "metadata": {},
   "outputs": [],
   "source": [
    "power = 0.8"
   ]
  },
  {
   "cell_type": "code",
   "execution_count": 249,
   "id": "341876fe",
   "metadata": {},
   "outputs": [
    {
     "name": "stdout",
     "output_type": "stream",
     "text": [
      "Необходимый размер выборки для эксперимента - 781\n"
     ]
    }
   ],
   "source": [
    "size_if_each_test_group = chipower.solve_power(effect_size=chi2_effect_size(conversion_control,\n",
    "                                                  conversion_test),\n",
    "                     nobs=None,\n",
    "                     alpha=pval,\n",
    "                     power=power)\n",
    "print ('Необходимый размер выборки для эксперимента - {:.0f}'.format(2*size_if_each_test_group))"
   ]
  },
  {
   "cell_type": "markdown",
   "id": "ef8d283d",
   "metadata": {},
   "source": [
    "## A/B test для доли сотрудников с положительной динамикой:"
   ]
  },
  {
   "cell_type": "code",
   "execution_count": 250,
   "id": "29a1519d",
   "metadata": {},
   "outputs": [],
   "source": [
    "empl_nps_ab_gd = empl_nps_ab"
   ]
  },
  {
   "cell_type": "code",
   "execution_count": 254,
   "id": "7d52ab18",
   "metadata": {},
   "outputs": [
    {
     "name": "stderr",
     "output_type": "stream",
     "text": [
      "C:\\Users\\nvlysen2\\AppData\\Local\\Temp\\ipykernel_7628\\3502479524.py:1: SettingWithCopyWarning: \n",
      "A value is trying to be set on a copy of a slice from a DataFrame.\n",
      "Try using .loc[row_indexer,col_indexer] = value instead\n",
      "\n",
      "See the caveats in the documentation: https://pandas.pydata.org/pandas-docs/stable/user_guide/indexing.html#returning-a-view-versus-a-copy\n",
      "  empl_nps_ab_gd['g_d']= np.where(empl_nps_ab_gd['dinamics']>0, 1, 0)\n"
     ]
    }
   ],
   "source": [
    "empl_nps_ab_gd['g_d']= np.where(empl_nps_ab_gd['dinamics']>0, 1, 0)"
   ]
  },
  {
   "cell_type": "code",
   "execution_count": 257,
   "id": "77f1bcdc",
   "metadata": {},
   "outputs": [],
   "source": [
    "def plot_segments_distribution_gd(df, segment_columns, test_factor):\n",
    "    for segment in segment_columns:\n",
    "        aggregated_data = df.groupby(by = [test_factor, segment])['g_d'].mean().reset_index()\n",
    "        sns.catplot(x = segment, \n",
    "                    y = 'g_d', \n",
    "                    hue = test_factor, # сообщаем, что хотим, чтобы разные группы имели разный цвет\n",
    "                    data = aggregated_data, \n",
    "                    kind = \"bar\", \n",
    "                    height = 6, # задаем размер графика \n",
    "                    aspect = 1) # задаем ширину столбца"
   ]
  },
  {
   "cell_type": "code",
   "execution_count": 258,
   "id": "22e38c83",
   "metadata": {},
   "outputs": [
    {
     "data": {
      "image/png": "[encoded data removed]",
      "text/plain": [
       "<Figure size 473x432 with 1 Axes>"
      ]
     },
     "metadata": {},
     "output_type": "display_data"
    }
   ],
   "source": [
    "plot_segments_distribution_gd(empl_nps_ab_gd, ['Дивизион'], 'group')"
   ]
  },
  {
   "cell_type": "markdown",
   "id": "c07a9a34",
   "metadata": {},
   "source": [
    "### Bootstrap for +dinamics"
   ]
  },
  {
   "cell_type": "code",
   "execution_count": 259,
   "id": "dc9e6de4",
   "metadata": {},
   "outputs": [],
   "source": [
    "empl_gr_gd = empl_nps_ab_gd.groupby(by = ['group']).agg({\n",
    "    'barcode_mts':'count',\n",
    "    'g_d':'sum'\n",
    "}).reset_index()\n",
    "\n",
    "empl_gr_gd['conversion'] = empl_gr_gd['g_d']/empl_gr_gd['barcode_mts']*100"
   ]
  },
  {
   "cell_type": "code",
   "execution_count": 260,
   "id": "0255bcb0",
   "metadata": {},
   "outputs": [
    {
     "data": {
      "text/html": [
       "<div>\n",
       "<style scoped>\n",
       "    .dataframe tbody tr th:only-of-type {\n",
       "        vertical-align: middle;\n",
       "    }\n",
       "\n",
       "    .dataframe tbody tr th {\n",
       "        vertical-align: top;\n",
       "    }\n",
       "\n",
       "    .dataframe thead th {\n",
       "        text-align: right;\n",
       "    }\n",
       "</style>\n",
       "<table border=\"1\" class=\"dataframe\">\n",
       "  <thead>\n",
       "    <tr style=\"text-align: right;\">\n",
       "      <th></th>\n",
       "      <th>group</th>\n",
       "      <th>barcode_mts</th>\n",
       "      <th>g_d</th>\n",
       "      <th>conversion</th>\n",
       "    </tr>\n",
       "  </thead>\n",
       "  <tbody>\n",
       "    <tr>\n",
       "      <th>0</th>\n",
       "      <td>c</td>\n",
       "      <td>582</td>\n",
       "      <td>271</td>\n",
       "      <td>46.563574</td>\n",
       "    </tr>\n",
       "    <tr>\n",
       "      <th>1</th>\n",
       "      <td>t</td>\n",
       "      <td>297</td>\n",
       "      <td>160</td>\n",
       "      <td>53.872054</td>\n",
       "    </tr>\n",
       "  </tbody>\n",
       "</table>\n",
       "</div>"
      ],
      "text/plain": [
       "  group  barcode_mts  g_d  conversion\n",
       "0     c          582  271   46.563574\n",
       "1     t          297  160   53.872054"
      ]
     },
     "execution_count": 260,
     "metadata": {},
     "output_type": "execute_result"
    }
   ],
   "source": [
    "empl_gr_gd"
   ]
  },
  {
   "cell_type": "code",
   "execution_count": 261,
   "id": "997c7218",
   "metadata": {},
   "outputs": [],
   "source": [
    "t_group = empl_nps_ab_gd[empl_nps_ab_gd['group']=='t']['g_d'].dropna().values\n",
    "c_group = empl_nps_ab_gd[empl_nps_ab_gd['group']=='c']['g_d'].dropna().values"
   ]
  },
  {
   "cell_type": "code",
   "execution_count": 262,
   "id": "a8a99fda",
   "metadata": {},
   "outputs": [],
   "source": [
    "bt_results = bs.bootstrap_ab(test=t_group,\n",
    "                             ctrl=c_group,\n",
    "                             stat_func=bs_stats.mean,\n",
    "                             compare_func=bs_compare.difference,\n",
    "                             return_distribution=True)"
   ]
  },
  {
   "cell_type": "code",
   "execution_count": 263,
   "id": "b4abc56d",
   "metadata": {},
   "outputs": [
    {
     "data": {
      "text/plain": [
       "array([0.064702  , 0.06442431, 0.13582561, ..., 0.09163803, 0.05253567,\n",
       "       0.06346975])"
      ]
     },
     "execution_count": 263,
     "metadata": {},
     "output_type": "execute_result"
    }
   ],
   "source": [
    "bt_results"
   ]
  },
  {
   "cell_type": "code",
   "execution_count": 264,
   "id": "cea55549",
   "metadata": {},
   "outputs": [],
   "source": [
    "borders_gd = np.percentile(bt_results, [2.5, 97.5])"
   ]
  },
  {
   "cell_type": "code",
   "execution_count": 267,
   "id": "92c0981a",
   "metadata": {},
   "outputs": [
    {
     "data": {
      "image/png": "[encoded data removed]",
      "text/plain": [
       "<Figure size 360x360 with 1 Axes>"
      ]
     },
     "metadata": {},
     "output_type": "display_data"
    }
   ],
   "source": [
    "sns.displot(bt_results)\n",
    "plt.title('Распредление разниц положительной динамики')\n",
    "plt.rcParams[\"figure.figsize\"] = (12, 6)\n",
    "plt.vlines(0, ymin = 0, ymax = 500, linestyles= '--', colors = 'red')\n",
    "plt.vlines(borders_gd, ymin = 0, ymax = 500, linestyles= '--', colors = 'green', label = '95% - доверительный интервал')\n",
    "plt.legend()\n",
    "plt.show()"
   ]
  },
  {
   "cell_type": "code",
   "execution_count": 268,
   "id": "0c69f854",
   "metadata": {},
   "outputs": [],
   "source": [
    "# Вычисляем Хи-квадрат:\n",
    "chi2stat, pval, table = proportion.proportions_chisquare(\n",
    "    empl_gr_gd['g_d'], empl_gr_gd['barcode_mts'])"
   ]
  },
  {
   "cell_type": "code",
   "execution_count": 269,
   "id": "6866d84e",
   "metadata": {},
   "outputs": [],
   "source": [
    "alpha = 0.5"
   ]
  },
  {
   "cell_type": "code",
   "execution_count": 270,
   "id": "c225ba2e",
   "metadata": {},
   "outputs": [
    {
     "name": "stdout",
     "output_type": "stream",
     "text": [
      "True\n"
     ]
    }
   ],
   "source": [
    "print(pval<alpha)"
   ]
  },
  {
   "cell_type": "code",
   "execution_count": 271,
   "id": "1b2b323d",
   "metadata": {},
   "outputs": [
    {
     "data": {
      "text/plain": [
       "0.040350745477125104"
      ]
     },
     "execution_count": 271,
     "metadata": {},
     "output_type": "execute_result"
    }
   ],
   "source": [
    "pval"
   ]
  },
  {
   "cell_type": "code",
   "execution_count": 277,
   "id": "0e183cd9",
   "metadata": {},
   "outputs": [],
   "source": [
    "conversion_control = empl_gr_gd['conversion'].values[0]/100\n",
    "conversion_test = empl_gr_gd['conversion'].values[1]/100\n",
    "nobs = min(empl_gr_gd['barcode_mts']) # минимальное кол-во наблюдений в одной из групп"
   ]
  },
  {
   "cell_type": "code",
   "execution_count": 278,
   "id": "28a88883",
   "metadata": {},
   "outputs": [
    {
     "data": {
      "text/plain": [
       "0.4190885516435202"
      ]
     },
     "execution_count": 278,
     "metadata": {},
     "output_type": "execute_result"
    }
   ],
   "source": [
    "# Вычисляем мощность:\n",
    "chipower.solve_power(effect_size=chi2_effect_size(conversion_control,\n",
    "                                                  conversion_test),\n",
    "                     nobs=nobs,\n",
    "                     alpha=pval,\n",
    "                     power=None)"
   ]
  },
  {
   "cell_type": "code",
   "execution_count": 279,
   "id": "1aa9665a",
   "metadata": {},
   "outputs": [],
   "source": [
    "power = 0.8"
   ]
  },
  {
   "cell_type": "code",
   "execution_count": 280,
   "id": "d06173cf",
   "metadata": {},
   "outputs": [
    {
     "name": "stdout",
     "output_type": "stream",
     "text": [
      "Необходимый размер выборки для эксперимента - 1458\n"
     ]
    }
   ],
   "source": [
    "size_if_each_test_group = chipower.solve_power(effect_size=chi2_effect_size(conversion_control,\n",
    "                                                  conversion_test),\n",
    "                     nobs=None,\n",
    "                     alpha=pval,\n",
    "                     power=power)\n",
    "print ('Необходимый размер выборки для эксперимента - {:.0f}'.format(2*size_if_each_test_group))"
   ]
  },
  {
   "cell_type": "markdown",
   "id": "c61319e9",
   "metadata": {},
   "source": [
    "## Выводы:\n",
    "1. Есть разница между тестовой и контрольной группой по доли вхождения в целевой во пользу контрольной группы.\n",
    "\n",
    "2. Есть разница в динамике контрольной и тестовой группы в пользу тестовой по средней динамики.\n",
    "\n",
    "3. Разница в пунктах 1 и 2 статистический не значима и возможно случайна. или же ту разницу, которую мы увидели, меньше той, которую мы могли бы обнаружить при тестировании.\n",
    "\n",
    "4. По пункту 2 необходимо продлить тест, так как мощность теста (вероятность обнаружения разницы) составила меньше 50% это и может являться причиной того, что разница статистически не значима.\n",
    "\n",
    "5. Есть разница по доли сотрудников, которые показали положительную динамику и она статистически значима."
   ]
  }
 ],
 "metadata": {
  "kernelspec": {
   "display_name": "Python 3 (ipykernel)",
   "language": "python",
   "name": "python3"
  },
  "language_info": {
   "codemirror_mode": {
    "name": "ipython",
    "version": 3
   },
   "file_extension": ".py",
   "mimetype": "text/x-python",
   "name": "python",
   "nbconvert_exporter": "python",
   "pygments_lexer": "ipython3",
   "version": "3.9.12"
  }
 },
 "nbformat": 4,
 "nbformat_minor": 5
}
